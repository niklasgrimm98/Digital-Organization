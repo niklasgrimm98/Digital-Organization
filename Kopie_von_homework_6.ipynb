{
  "nbformat": 4,
  "nbformat_minor": 0,
  "metadata": {
    "colab": {
      "provenance": [],
      "include_colab_link": true
    },
    "kernelspec": {
      "name": "python3",
      "display_name": "Python 3"
    },
    "language_info": {
      "name": "python"
    }
  },
  "cells": [
    {
      "cell_type": "markdown",
      "metadata": {
        "id": "view-in-github",
        "colab_type": "text"
      },
      "source": [
        "<a href=\"https://colab.research.google.com/github/niklasgrimm98/Digital-Organization/blob/main/Kopie_von_homework_6.ipynb\" target=\"_parent\"><img src=\"https://colab.research.google.com/assets/colab-badge.svg\" alt=\"Open In Colab\"/></a>"
      ]
    },
    {
      "cell_type": "markdown",
      "source": [
        "The following assignment consists again of a theoretical part (learning portfolio) and a practical part (assignment). The goal is to train a neural model from scratch, as we did a few weeks ago. I would like us to repeat the most important things so that we can consolidate our knowledge in this area, for this you will train a model on a dataset that I will provide via OLAT. \n",
        "\n",
        "The plan would be that in the first we will discuss your learnings from the theory part, that means you are relatively free to fill your Learning Portfolio on this topic and in the following week we will discuss your solutions of the Classification Model.\n",
        "\n",
        "#Theory part (filling your Learning Portfolio, May 24)\n",
        "\n",
        "In preparation for the practical part, I ask you to familiarize yourself with the following video sources in the next week:\n",
        "\n",
        "1) Please watch the following video until random forests:\n",
        "\n",
        "https://course.fast.ai/Lessons/lesson5.html\n",
        "\n",
        "2) Please download the following notebooks and edit it in Google-Colab. Take notes and update your Learning Portfolio.\n",
        "\n",
        "https://www.kaggle.com/code/jhoward/linear-model-and-neural-net-from-scratch\n",
        "\n",
        "https://www.kaggle.com/code/jhoward/why-you-should-use-a-framework\n",
        "\n",
        "The contents should be mostly known to you, because these contents are also based on chapter 4, which we have already worked on. We repeat the basics again with a new data set to consolidate our knowledge.\n",
        "\n",
        "\n",
        "\n",
        "#Practical part (Assignment, May 31)\n",
        "\n",
        "The following task is a binary classification task. The first column is our target. All variables are categorical variables from which you have to create dummy variables. The target column has only the property Q or F, which is to be modeled. As always, please create a train and a test data set, e.g. 80:20 or 90:10. Your goal is to create a neural network that best predicts the target column. Use probabilities with the sigmoid function as discussed in the theory. When designing your neural network, play with a few different numbers and sizes of layers and different activation functions.\n",
        "\n",
        "To validate your model, you can compare your results with a logistic regression model. (Note: This data set should allow you to achieve very high accuracies: > 98% maybe even >99%) You can see how these results vary when you use 50% for testing and 50% for training."
      ],
      "metadata": {
        "id": "PpUcmUeU4KBV"
      }
    },
    {
      "cell_type": "code",
      "execution_count": null,
      "metadata": {
        "id": "UTf6JM9C4G2t",
        "outputId": "23b86015-102b-48c0-be86-552bcf1934d4",
        "colab": {
          "base_uri": "https://localhost:8080/"
        }
      },
      "outputs": [
        {
          "output_type": "stream",
          "name": "stdout",
          "text": [
            "Mounted at /content/drive\n"
          ]
        }
      ],
      "source": [
        "import pandas as pd\n",
        "from google.colab import drive\n",
        "from google.colab import data_table\n",
        "import matplotlib.pyplot as plt\n",
        "data_table.enable_dataframe_formatter()\n",
        "\n",
        "drive.mount('/content/drive', force_remount=True)"
      ]
    },
    {
      "cell_type": "code",
      "source": [
        "import numpy as np\n",
        "from torch import tensor\n",
        "import torch\n",
        "\n",
        "from fastai.data.transforms import RandomSplitter\n"
      ],
      "metadata": {
        "id": "gHBDbcU8bA6_"
      },
      "execution_count": null,
      "outputs": []
    },
    {
      "cell_type": "code",
      "source": [
        "%cd './drive/My Drive/Digital Organisations'"
      ],
      "metadata": {
        "id": "nQRkACgCYQ9R",
        "outputId": "74501dfb-2162-458b-b696-111c14108a50",
        "colab": {
          "base_uri": "https://localhost:8080/"
        }
      },
      "execution_count": null,
      "outputs": [
        {
          "output_type": "stream",
          "name": "stdout",
          "text": [
            "/content/drive/My Drive\n"
          ]
        }
      ]
    },
    {
      "cell_type": "code",
      "source": [
        "%cd 'Digital Organisations'"
      ],
      "metadata": {
        "id": "48rXLI99ZdK4",
        "outputId": "57b13aab-fc4b-446e-9f36-8cf86fffd085",
        "colab": {
          "base_uri": "https://localhost:8080/"
        }
      },
      "execution_count": null,
      "outputs": [
        {
          "output_type": "stream",
          "name": "stdout",
          "text": [
            "/content/drive/My Drive/Digital Organisations\n"
          ]
        }
      ]
    },
    {
      "cell_type": "code",
      "source": [
        "data = pd.read_csv('data_homework_6.csv')"
      ],
      "metadata": {
        "id": "aw26VBvGXUHG"
      },
      "execution_count": null,
      "outputs": []
    },
    {
      "cell_type": "code",
      "source": [
        "data.head(10)"
      ],
      "metadata": {
        "id": "XwSC3ul3W4EM",
        "outputId": "08b6c6cd-1b2b-4510-c78f-7685fa73afa2",
        "colab": {
          "base_uri": "https://localhost:8080/",
          "height": 474
        }
      },
      "execution_count": null,
      "outputs": [
        {
          "output_type": "stream",
          "name": "stdout",
          "text": [
            "Warning: Total number of columns (23) exceeds max_columns (20). Falling back to pandas display.\n"
          ]
        },
        {
          "output_type": "execute_result",
          "data": {
            "text/plain": [
              "  target variable_1 variable_2 variable_3 variable_4 variable_5 variable_6  \\\n",
              "0      Q          Y          T          O          U          Q          G   \n",
              "1      F          Y          T          Z          U          B          G   \n",
              "2      F          C          T          X          U          M          G   \n",
              "3      Q          Y          Z          X          U          Q          G   \n",
              "4      F          Y          T          H          G          O          G   \n",
              "5      F          Y          Z          Z          U          B          G   \n",
              "6      F          C          T          X          U          B          G   \n",
              "7      F          C          Z          X          U          M          G   \n",
              "8      Q          Y          Z          X          U          Q          G   \n",
              "9      F          C          T          Z          U          B          G   \n",
              "\n",
              "  variable_7 variable_8 variable_9  ... variable_13 variable_14 variable_15  \\\n",
              "0          D          O          L  ...           T           X           X   \n",
              "1          D          C          L  ...           T           X           X   \n",
              "2          D          C          O  ...           T           X           X   \n",
              "3          D          O          O  ...           T           X           X   \n",
              "4          X          C          L  ...           T           X           X   \n",
              "5          D          C          O  ...           T           X           X   \n",
              "6          D          C          H  ...           T           X           X   \n",
              "7          D          C          O  ...           T           X           X   \n",
              "8          D          O          Q  ...           T           X           X   \n",
              "9          D          C          H  ...           T           X           X   \n",
              "\n",
              "  variable_16 variable_17 variable_18 variable_19 variable_20 variable_21  \\\n",
              "0           Q           X           P           Q           L           T   \n",
              "1           Q           X           P           Q           O           O   \n",
              "2           Q           X           P           Q           O           O   \n",
              "3           Q           X           P           Q           L           T   \n",
              "4           Q           X           P           F           O           B   \n",
              "5           Q           X           P           Q           L           O   \n",
              "6           Q           X           P           Q           L           O   \n",
              "7           Q           X           P           Q           O           T   \n",
              "8           Q           X           P           Q           L           W   \n",
              "9           Q           X           P           Q           L           T   \n",
              "\n",
              "  variable_22  \n",
              "0           V  \n",
              "1           H  \n",
              "2           N  \n",
              "3           V  \n",
              "4           H  \n",
              "5           H  \n",
              "6           N  \n",
              "7           N  \n",
              "8           H  \n",
              "9           N  \n",
              "\n",
              "[10 rows x 23 columns]"
            ],
            "text/html": [
              "\n",
              "  <div id=\"df-d96ee31e-a2ca-4c81-b8b5-80d16413a5d3\">\n",
              "    <div class=\"colab-df-container\">\n",
              "      <div>\n",
              "<style scoped>\n",
              "    .dataframe tbody tr th:only-of-type {\n",
              "        vertical-align: middle;\n",
              "    }\n",
              "\n",
              "    .dataframe tbody tr th {\n",
              "        vertical-align: top;\n",
              "    }\n",
              "\n",
              "    .dataframe thead th {\n",
              "        text-align: right;\n",
              "    }\n",
              "</style>\n",
              "<table border=\"1\" class=\"dataframe\">\n",
              "  <thead>\n",
              "    <tr style=\"text-align: right;\">\n",
              "      <th></th>\n",
              "      <th>target</th>\n",
              "      <th>variable_1</th>\n",
              "      <th>variable_2</th>\n",
              "      <th>variable_3</th>\n",
              "      <th>variable_4</th>\n",
              "      <th>variable_5</th>\n",
              "      <th>variable_6</th>\n",
              "      <th>variable_7</th>\n",
              "      <th>variable_8</th>\n",
              "      <th>variable_9</th>\n",
              "      <th>...</th>\n",
              "      <th>variable_13</th>\n",
              "      <th>variable_14</th>\n",
              "      <th>variable_15</th>\n",
              "      <th>variable_16</th>\n",
              "      <th>variable_17</th>\n",
              "      <th>variable_18</th>\n",
              "      <th>variable_19</th>\n",
              "      <th>variable_20</th>\n",
              "      <th>variable_21</th>\n",
              "      <th>variable_22</th>\n",
              "    </tr>\n",
              "  </thead>\n",
              "  <tbody>\n",
              "    <tr>\n",
              "      <th>0</th>\n",
              "      <td>Q</td>\n",
              "      <td>Y</td>\n",
              "      <td>T</td>\n",
              "      <td>O</td>\n",
              "      <td>U</td>\n",
              "      <td>Q</td>\n",
              "      <td>G</td>\n",
              "      <td>D</td>\n",
              "      <td>O</td>\n",
              "      <td>L</td>\n",
              "      <td>...</td>\n",
              "      <td>T</td>\n",
              "      <td>X</td>\n",
              "      <td>X</td>\n",
              "      <td>Q</td>\n",
              "      <td>X</td>\n",
              "      <td>P</td>\n",
              "      <td>Q</td>\n",
              "      <td>L</td>\n",
              "      <td>T</td>\n",
              "      <td>V</td>\n",
              "    </tr>\n",
              "    <tr>\n",
              "      <th>1</th>\n",
              "      <td>F</td>\n",
              "      <td>Y</td>\n",
              "      <td>T</td>\n",
              "      <td>Z</td>\n",
              "      <td>U</td>\n",
              "      <td>B</td>\n",
              "      <td>G</td>\n",
              "      <td>D</td>\n",
              "      <td>C</td>\n",
              "      <td>L</td>\n",
              "      <td>...</td>\n",
              "      <td>T</td>\n",
              "      <td>X</td>\n",
              "      <td>X</td>\n",
              "      <td>Q</td>\n",
              "      <td>X</td>\n",
              "      <td>P</td>\n",
              "      <td>Q</td>\n",
              "      <td>O</td>\n",
              "      <td>O</td>\n",
              "      <td>H</td>\n",
              "    </tr>\n",
              "    <tr>\n",
              "      <th>2</th>\n",
              "      <td>F</td>\n",
              "      <td>C</td>\n",
              "      <td>T</td>\n",
              "      <td>X</td>\n",
              "      <td>U</td>\n",
              "      <td>M</td>\n",
              "      <td>G</td>\n",
              "      <td>D</td>\n",
              "      <td>C</td>\n",
              "      <td>O</td>\n",
              "      <td>...</td>\n",
              "      <td>T</td>\n",
              "      <td>X</td>\n",
              "      <td>X</td>\n",
              "      <td>Q</td>\n",
              "      <td>X</td>\n",
              "      <td>P</td>\n",
              "      <td>Q</td>\n",
              "      <td>O</td>\n",
              "      <td>O</td>\n",
              "      <td>N</td>\n",
              "    </tr>\n",
              "    <tr>\n",
              "      <th>3</th>\n",
              "      <td>Q</td>\n",
              "      <td>Y</td>\n",
              "      <td>Z</td>\n",
              "      <td>X</td>\n",
              "      <td>U</td>\n",
              "      <td>Q</td>\n",
              "      <td>G</td>\n",
              "      <td>D</td>\n",
              "      <td>O</td>\n",
              "      <td>O</td>\n",
              "      <td>...</td>\n",
              "      <td>T</td>\n",
              "      <td>X</td>\n",
              "      <td>X</td>\n",
              "      <td>Q</td>\n",
              "      <td>X</td>\n",
              "      <td>P</td>\n",
              "      <td>Q</td>\n",
              "      <td>L</td>\n",
              "      <td>T</td>\n",
              "      <td>V</td>\n",
              "    </tr>\n",
              "    <tr>\n",
              "      <th>4</th>\n",
              "      <td>F</td>\n",
              "      <td>Y</td>\n",
              "      <td>T</td>\n",
              "      <td>H</td>\n",
              "      <td>G</td>\n",
              "      <td>O</td>\n",
              "      <td>G</td>\n",
              "      <td>X</td>\n",
              "      <td>C</td>\n",
              "      <td>L</td>\n",
              "      <td>...</td>\n",
              "      <td>T</td>\n",
              "      <td>X</td>\n",
              "      <td>X</td>\n",
              "      <td>Q</td>\n",
              "      <td>X</td>\n",
              "      <td>P</td>\n",
              "      <td>F</td>\n",
              "      <td>O</td>\n",
              "      <td>B</td>\n",
              "      <td>H</td>\n",
              "    </tr>\n",
              "    <tr>\n",
              "      <th>5</th>\n",
              "      <td>F</td>\n",
              "      <td>Y</td>\n",
              "      <td>Z</td>\n",
              "      <td>Z</td>\n",
              "      <td>U</td>\n",
              "      <td>B</td>\n",
              "      <td>G</td>\n",
              "      <td>D</td>\n",
              "      <td>C</td>\n",
              "      <td>O</td>\n",
              "      <td>...</td>\n",
              "      <td>T</td>\n",
              "      <td>X</td>\n",
              "      <td>X</td>\n",
              "      <td>Q</td>\n",
              "      <td>X</td>\n",
              "      <td>P</td>\n",
              "      <td>Q</td>\n",
              "      <td>L</td>\n",
              "      <td>O</td>\n",
              "      <td>H</td>\n",
              "    </tr>\n",
              "    <tr>\n",
              "      <th>6</th>\n",
              "      <td>F</td>\n",
              "      <td>C</td>\n",
              "      <td>T</td>\n",
              "      <td>X</td>\n",
              "      <td>U</td>\n",
              "      <td>B</td>\n",
              "      <td>G</td>\n",
              "      <td>D</td>\n",
              "      <td>C</td>\n",
              "      <td>H</td>\n",
              "      <td>...</td>\n",
              "      <td>T</td>\n",
              "      <td>X</td>\n",
              "      <td>X</td>\n",
              "      <td>Q</td>\n",
              "      <td>X</td>\n",
              "      <td>P</td>\n",
              "      <td>Q</td>\n",
              "      <td>L</td>\n",
              "      <td>O</td>\n",
              "      <td>N</td>\n",
              "    </tr>\n",
              "    <tr>\n",
              "      <th>7</th>\n",
              "      <td>F</td>\n",
              "      <td>C</td>\n",
              "      <td>Z</td>\n",
              "      <td>X</td>\n",
              "      <td>U</td>\n",
              "      <td>M</td>\n",
              "      <td>G</td>\n",
              "      <td>D</td>\n",
              "      <td>C</td>\n",
              "      <td>O</td>\n",
              "      <td>...</td>\n",
              "      <td>T</td>\n",
              "      <td>X</td>\n",
              "      <td>X</td>\n",
              "      <td>Q</td>\n",
              "      <td>X</td>\n",
              "      <td>P</td>\n",
              "      <td>Q</td>\n",
              "      <td>O</td>\n",
              "      <td>T</td>\n",
              "      <td>N</td>\n",
              "    </tr>\n",
              "    <tr>\n",
              "      <th>8</th>\n",
              "      <td>Q</td>\n",
              "      <td>Y</td>\n",
              "      <td>Z</td>\n",
              "      <td>X</td>\n",
              "      <td>U</td>\n",
              "      <td>Q</td>\n",
              "      <td>G</td>\n",
              "      <td>D</td>\n",
              "      <td>O</td>\n",
              "      <td>Q</td>\n",
              "      <td>...</td>\n",
              "      <td>T</td>\n",
              "      <td>X</td>\n",
              "      <td>X</td>\n",
              "      <td>Q</td>\n",
              "      <td>X</td>\n",
              "      <td>P</td>\n",
              "      <td>Q</td>\n",
              "      <td>L</td>\n",
              "      <td>W</td>\n",
              "      <td>H</td>\n",
              "    </tr>\n",
              "    <tr>\n",
              "      <th>9</th>\n",
              "      <td>F</td>\n",
              "      <td>C</td>\n",
              "      <td>T</td>\n",
              "      <td>Z</td>\n",
              "      <td>U</td>\n",
              "      <td>B</td>\n",
              "      <td>G</td>\n",
              "      <td>D</td>\n",
              "      <td>C</td>\n",
              "      <td>H</td>\n",
              "      <td>...</td>\n",
              "      <td>T</td>\n",
              "      <td>X</td>\n",
              "      <td>X</td>\n",
              "      <td>Q</td>\n",
              "      <td>X</td>\n",
              "      <td>P</td>\n",
              "      <td>Q</td>\n",
              "      <td>L</td>\n",
              "      <td>T</td>\n",
              "      <td>N</td>\n",
              "    </tr>\n",
              "  </tbody>\n",
              "</table>\n",
              "<p>10 rows × 23 columns</p>\n",
              "</div>\n",
              "      <button class=\"colab-df-convert\" onclick=\"convertToInteractive('df-d96ee31e-a2ca-4c81-b8b5-80d16413a5d3')\"\n",
              "              title=\"Convert this dataframe to an interactive table.\"\n",
              "              style=\"display:none;\">\n",
              "        \n",
              "  <svg xmlns=\"http://www.w3.org/2000/svg\" height=\"24px\"viewBox=\"0 0 24 24\"\n",
              "       width=\"24px\">\n",
              "    <path d=\"M0 0h24v24H0V0z\" fill=\"none\"/>\n",
              "    <path d=\"M18.56 5.44l.94 2.06.94-2.06 2.06-.94-2.06-.94-.94-2.06-.94 2.06-2.06.94zm-11 1L8.5 8.5l.94-2.06 2.06-.94-2.06-.94L8.5 2.5l-.94 2.06-2.06.94zm10 10l.94 2.06.94-2.06 2.06-.94-2.06-.94-.94-2.06-.94 2.06-2.06.94z\"/><path d=\"M17.41 7.96l-1.37-1.37c-.4-.4-.92-.59-1.43-.59-.52 0-1.04.2-1.43.59L10.3 9.45l-7.72 7.72c-.78.78-.78 2.05 0 2.83L4 21.41c.39.39.9.59 1.41.59.51 0 1.02-.2 1.41-.59l7.78-7.78 2.81-2.81c.8-.78.8-2.07 0-2.86zM5.41 20L4 18.59l7.72-7.72 1.47 1.35L5.41 20z\"/>\n",
              "  </svg>\n",
              "      </button>\n",
              "      \n",
              "  <style>\n",
              "    .colab-df-container {\n",
              "      display:flex;\n",
              "      flex-wrap:wrap;\n",
              "      gap: 12px;\n",
              "    }\n",
              "\n",
              "    .colab-df-convert {\n",
              "      background-color: #E8F0FE;\n",
              "      border: none;\n",
              "      border-radius: 50%;\n",
              "      cursor: pointer;\n",
              "      display: none;\n",
              "      fill: #1967D2;\n",
              "      height: 32px;\n",
              "      padding: 0 0 0 0;\n",
              "      width: 32px;\n",
              "    }\n",
              "\n",
              "    .colab-df-convert:hover {\n",
              "      background-color: #E2EBFA;\n",
              "      box-shadow: 0px 1px 2px rgba(60, 64, 67, 0.3), 0px 1px 3px 1px rgba(60, 64, 67, 0.15);\n",
              "      fill: #174EA6;\n",
              "    }\n",
              "\n",
              "    [theme=dark] .colab-df-convert {\n",
              "      background-color: #3B4455;\n",
              "      fill: #D2E3FC;\n",
              "    }\n",
              "\n",
              "    [theme=dark] .colab-df-convert:hover {\n",
              "      background-color: #434B5C;\n",
              "      box-shadow: 0px 1px 3px 1px rgba(0, 0, 0, 0.15);\n",
              "      filter: drop-shadow(0px 1px 2px rgba(0, 0, 0, 0.3));\n",
              "      fill: #FFFFFF;\n",
              "    }\n",
              "  </style>\n",
              "\n",
              "      <script>\n",
              "        const buttonEl =\n",
              "          document.querySelector('#df-d96ee31e-a2ca-4c81-b8b5-80d16413a5d3 button.colab-df-convert');\n",
              "        buttonEl.style.display =\n",
              "          google.colab.kernel.accessAllowed ? 'block' : 'none';\n",
              "\n",
              "        async function convertToInteractive(key) {\n",
              "          const element = document.querySelector('#df-d96ee31e-a2ca-4c81-b8b5-80d16413a5d3');\n",
              "          const dataTable =\n",
              "            await google.colab.kernel.invokeFunction('convertToInteractive',\n",
              "                                                     [key], {});\n",
              "          if (!dataTable) return;\n",
              "\n",
              "          const docLinkHtml = 'Like what you see? Visit the ' +\n",
              "            '<a target=\"_blank\" href=https://colab.research.google.com/notebooks/data_table.ipynb>data table notebook</a>'\n",
              "            + ' to learn more about interactive tables.';\n",
              "          element.innerHTML = '';\n",
              "          dataTable['output_type'] = 'display_data';\n",
              "          await google.colab.output.renderOutput(dataTable, element);\n",
              "          const docLink = document.createElement('div');\n",
              "          docLink.innerHTML = docLinkHtml;\n",
              "          element.appendChild(docLink);\n",
              "        }\n",
              "      </script>\n",
              "    </div>\n",
              "  </div>\n",
              "  "
            ]
          },
          "metadata": {},
          "execution_count": 21
        }
      ]
    },
    {
      "cell_type": "code",
      "source": [
        "data.isna().sum()"
      ],
      "metadata": {
        "id": "VuUEox9GZ3GK",
        "outputId": "9c8339a9-8ae6-46b8-8a24-0cb89c4c4de0",
        "colab": {
          "base_uri": "https://localhost:8080/"
        }
      },
      "execution_count": null,
      "outputs": [
        {
          "output_type": "execute_result",
          "data": {
            "text/plain": [
              "target         0\n",
              "variable_1     0\n",
              "variable_2     0\n",
              "variable_3     0\n",
              "variable_4     0\n",
              "variable_5     0\n",
              "variable_6     0\n",
              "variable_7     0\n",
              "variable_8     0\n",
              "variable_9     0\n",
              "variable_10    0\n",
              "variable_11    0\n",
              "variable_12    0\n",
              "variable_13    0\n",
              "variable_14    0\n",
              "variable_15    0\n",
              "variable_16    0\n",
              "variable_17    0\n",
              "variable_18    0\n",
              "variable_19    0\n",
              "variable_20    0\n",
              "variable_21    0\n",
              "variable_22    0\n",
              "dtype: int64"
            ]
          },
          "metadata": {},
          "execution_count": 22
        }
      ]
    },
    {
      "cell_type": "code",
      "source": [
        "data.describe(include=[object])\n"
      ],
      "metadata": {
        "id": "xx0vkKUCaDdY",
        "outputId": "2d6c1f96-823e-45b6-c5e3-8686fef77dd9",
        "colab": {
          "base_uri": "https://localhost:8080/",
          "height": 286
        }
      },
      "execution_count": null,
      "outputs": [
        {
          "output_type": "stream",
          "name": "stdout",
          "text": [
            "Warning: Total number of columns (23) exceeds max_columns (20). Falling back to pandas display.\n"
          ]
        },
        {
          "output_type": "execute_result",
          "data": {
            "text/plain": [
              "       target variable_1 variable_2 variable_3 variable_4 variable_5  \\\n",
              "count    8124       8124       8124       8124       8124       8124   \n",
              "unique      2          6          4         10          2          9   \n",
              "top         F          Y          Z          O          G          O   \n",
              "freq     4208       3656       3244       2284       4748       3528   \n",
              "\n",
              "       variable_6 variable_7 variable_8 variable_9  ... variable_13  \\\n",
              "count        8124       8124       8124       8124  ...        8124   \n",
              "unique          2          2          2         12  ...           4   \n",
              "top             G          D          C          C  ...           T   \n",
              "freq         7914       6812       5612       1728  ...        4936   \n",
              "\n",
              "       variable_14 variable_15 variable_16 variable_17 variable_18  \\\n",
              "count         8124        8124        8124        8124        8124   \n",
              "unique           9           9           1           4           3   \n",
              "top              X           X           Q           X           P   \n",
              "freq          4464        4384        8124        7924        7488   \n",
              "\n",
              "       variable_19 variable_20 variable_21 variable_22  \n",
              "count         8124        8124        8124        8124  \n",
              "unique           5           9           6           7  \n",
              "top              Q           X           W           E  \n",
              "freq          3968        2388        4040        3148  \n",
              "\n",
              "[4 rows x 23 columns]"
            ],
            "text/html": [
              "\n",
              "  <div id=\"df-df25116b-5046-4407-b264-bac1eed70399\">\n",
              "    <div class=\"colab-df-container\">\n",
              "      <div>\n",
              "<style scoped>\n",
              "    .dataframe tbody tr th:only-of-type {\n",
              "        vertical-align: middle;\n",
              "    }\n",
              "\n",
              "    .dataframe tbody tr th {\n",
              "        vertical-align: top;\n",
              "    }\n",
              "\n",
              "    .dataframe thead th {\n",
              "        text-align: right;\n",
              "    }\n",
              "</style>\n",
              "<table border=\"1\" class=\"dataframe\">\n",
              "  <thead>\n",
              "    <tr style=\"text-align: right;\">\n",
              "      <th></th>\n",
              "      <th>target</th>\n",
              "      <th>variable_1</th>\n",
              "      <th>variable_2</th>\n",
              "      <th>variable_3</th>\n",
              "      <th>variable_4</th>\n",
              "      <th>variable_5</th>\n",
              "      <th>variable_6</th>\n",
              "      <th>variable_7</th>\n",
              "      <th>variable_8</th>\n",
              "      <th>variable_9</th>\n",
              "      <th>...</th>\n",
              "      <th>variable_13</th>\n",
              "      <th>variable_14</th>\n",
              "      <th>variable_15</th>\n",
              "      <th>variable_16</th>\n",
              "      <th>variable_17</th>\n",
              "      <th>variable_18</th>\n",
              "      <th>variable_19</th>\n",
              "      <th>variable_20</th>\n",
              "      <th>variable_21</th>\n",
              "      <th>variable_22</th>\n",
              "    </tr>\n",
              "  </thead>\n",
              "  <tbody>\n",
              "    <tr>\n",
              "      <th>count</th>\n",
              "      <td>8124</td>\n",
              "      <td>8124</td>\n",
              "      <td>8124</td>\n",
              "      <td>8124</td>\n",
              "      <td>8124</td>\n",
              "      <td>8124</td>\n",
              "      <td>8124</td>\n",
              "      <td>8124</td>\n",
              "      <td>8124</td>\n",
              "      <td>8124</td>\n",
              "      <td>...</td>\n",
              "      <td>8124</td>\n",
              "      <td>8124</td>\n",
              "      <td>8124</td>\n",
              "      <td>8124</td>\n",
              "      <td>8124</td>\n",
              "      <td>8124</td>\n",
              "      <td>8124</td>\n",
              "      <td>8124</td>\n",
              "      <td>8124</td>\n",
              "      <td>8124</td>\n",
              "    </tr>\n",
              "    <tr>\n",
              "      <th>unique</th>\n",
              "      <td>2</td>\n",
              "      <td>6</td>\n",
              "      <td>4</td>\n",
              "      <td>10</td>\n",
              "      <td>2</td>\n",
              "      <td>9</td>\n",
              "      <td>2</td>\n",
              "      <td>2</td>\n",
              "      <td>2</td>\n",
              "      <td>12</td>\n",
              "      <td>...</td>\n",
              "      <td>4</td>\n",
              "      <td>9</td>\n",
              "      <td>9</td>\n",
              "      <td>1</td>\n",
              "      <td>4</td>\n",
              "      <td>3</td>\n",
              "      <td>5</td>\n",
              "      <td>9</td>\n",
              "      <td>6</td>\n",
              "      <td>7</td>\n",
              "    </tr>\n",
              "    <tr>\n",
              "      <th>top</th>\n",
              "      <td>F</td>\n",
              "      <td>Y</td>\n",
              "      <td>Z</td>\n",
              "      <td>O</td>\n",
              "      <td>G</td>\n",
              "      <td>O</td>\n",
              "      <td>G</td>\n",
              "      <td>D</td>\n",
              "      <td>C</td>\n",
              "      <td>C</td>\n",
              "      <td>...</td>\n",
              "      <td>T</td>\n",
              "      <td>X</td>\n",
              "      <td>X</td>\n",
              "      <td>Q</td>\n",
              "      <td>X</td>\n",
              "      <td>P</td>\n",
              "      <td>Q</td>\n",
              "      <td>X</td>\n",
              "      <td>W</td>\n",
              "      <td>E</td>\n",
              "    </tr>\n",
              "    <tr>\n",
              "      <th>freq</th>\n",
              "      <td>4208</td>\n",
              "      <td>3656</td>\n",
              "      <td>3244</td>\n",
              "      <td>2284</td>\n",
              "      <td>4748</td>\n",
              "      <td>3528</td>\n",
              "      <td>7914</td>\n",
              "      <td>6812</td>\n",
              "      <td>5612</td>\n",
              "      <td>1728</td>\n",
              "      <td>...</td>\n",
              "      <td>4936</td>\n",
              "      <td>4464</td>\n",
              "      <td>4384</td>\n",
              "      <td>8124</td>\n",
              "      <td>7924</td>\n",
              "      <td>7488</td>\n",
              "      <td>3968</td>\n",
              "      <td>2388</td>\n",
              "      <td>4040</td>\n",
              "      <td>3148</td>\n",
              "    </tr>\n",
              "  </tbody>\n",
              "</table>\n",
              "<p>4 rows × 23 columns</p>\n",
              "</div>\n",
              "      <button class=\"colab-df-convert\" onclick=\"convertToInteractive('df-df25116b-5046-4407-b264-bac1eed70399')\"\n",
              "              title=\"Convert this dataframe to an interactive table.\"\n",
              "              style=\"display:none;\">\n",
              "        \n",
              "  <svg xmlns=\"http://www.w3.org/2000/svg\" height=\"24px\"viewBox=\"0 0 24 24\"\n",
              "       width=\"24px\">\n",
              "    <path d=\"M0 0h24v24H0V0z\" fill=\"none\"/>\n",
              "    <path d=\"M18.56 5.44l.94 2.06.94-2.06 2.06-.94-2.06-.94-.94-2.06-.94 2.06-2.06.94zm-11 1L8.5 8.5l.94-2.06 2.06-.94-2.06-.94L8.5 2.5l-.94 2.06-2.06.94zm10 10l.94 2.06.94-2.06 2.06-.94-2.06-.94-.94-2.06-.94 2.06-2.06.94z\"/><path d=\"M17.41 7.96l-1.37-1.37c-.4-.4-.92-.59-1.43-.59-.52 0-1.04.2-1.43.59L10.3 9.45l-7.72 7.72c-.78.78-.78 2.05 0 2.83L4 21.41c.39.39.9.59 1.41.59.51 0 1.02-.2 1.41-.59l7.78-7.78 2.81-2.81c.8-.78.8-2.07 0-2.86zM5.41 20L4 18.59l7.72-7.72 1.47 1.35L5.41 20z\"/>\n",
              "  </svg>\n",
              "      </button>\n",
              "      \n",
              "  <style>\n",
              "    .colab-df-container {\n",
              "      display:flex;\n",
              "      flex-wrap:wrap;\n",
              "      gap: 12px;\n",
              "    }\n",
              "\n",
              "    .colab-df-convert {\n",
              "      background-color: #E8F0FE;\n",
              "      border: none;\n",
              "      border-radius: 50%;\n",
              "      cursor: pointer;\n",
              "      display: none;\n",
              "      fill: #1967D2;\n",
              "      height: 32px;\n",
              "      padding: 0 0 0 0;\n",
              "      width: 32px;\n",
              "    }\n",
              "\n",
              "    .colab-df-convert:hover {\n",
              "      background-color: #E2EBFA;\n",
              "      box-shadow: 0px 1px 2px rgba(60, 64, 67, 0.3), 0px 1px 3px 1px rgba(60, 64, 67, 0.15);\n",
              "      fill: #174EA6;\n",
              "    }\n",
              "\n",
              "    [theme=dark] .colab-df-convert {\n",
              "      background-color: #3B4455;\n",
              "      fill: #D2E3FC;\n",
              "    }\n",
              "\n",
              "    [theme=dark] .colab-df-convert:hover {\n",
              "      background-color: #434B5C;\n",
              "      box-shadow: 0px 1px 3px 1px rgba(0, 0, 0, 0.15);\n",
              "      filter: drop-shadow(0px 1px 2px rgba(0, 0, 0, 0.3));\n",
              "      fill: #FFFFFF;\n",
              "    }\n",
              "  </style>\n",
              "\n",
              "      <script>\n",
              "        const buttonEl =\n",
              "          document.querySelector('#df-df25116b-5046-4407-b264-bac1eed70399 button.colab-df-convert');\n",
              "        buttonEl.style.display =\n",
              "          google.colab.kernel.accessAllowed ? 'block' : 'none';\n",
              "\n",
              "        async function convertToInteractive(key) {\n",
              "          const element = document.querySelector('#df-df25116b-5046-4407-b264-bac1eed70399');\n",
              "          const dataTable =\n",
              "            await google.colab.kernel.invokeFunction('convertToInteractive',\n",
              "                                                     [key], {});\n",
              "          if (!dataTable) return;\n",
              "\n",
              "          const docLinkHtml = 'Like what you see? Visit the ' +\n",
              "            '<a target=\"_blank\" href=https://colab.research.google.com/notebooks/data_table.ipynb>data table notebook</a>'\n",
              "            + ' to learn more about interactive tables.';\n",
              "          element.innerHTML = '';\n",
              "          dataTable['output_type'] = 'display_data';\n",
              "          await google.colab.output.renderOutput(dataTable, element);\n",
              "          const docLink = document.createElement('div');\n",
              "          docLink.innerHTML = docLinkHtml;\n",
              "          element.appendChild(docLink);\n",
              "        }\n",
              "      </script>\n",
              "    </div>\n",
              "  </div>\n",
              "  "
            ]
          },
          "metadata": {},
          "execution_count": 23
        }
      ]
    },
    {
      "cell_type": "code",
      "source": [
        "target = data['target']"
      ],
      "metadata": {
        "id": "QPTiq8jEgDWK"
      },
      "execution_count": null,
      "outputs": []
    },
    {
      "cell_type": "code",
      "source": [
        "target"
      ],
      "metadata": {
        "id": "stxU642agxW7",
        "outputId": "5ae64050-5efe-4c36-86f3-f069fcad02c4",
        "colab": {
          "base_uri": "https://localhost:8080/"
        }
      },
      "execution_count": null,
      "outputs": [
        {
          "output_type": "execute_result",
          "data": {
            "text/plain": [
              "0       Q\n",
              "1       F\n",
              "2       F\n",
              "3       Q\n",
              "4       F\n",
              "       ..\n",
              "8119    F\n",
              "8120    F\n",
              "8121    F\n",
              "8122    Q\n",
              "8123    F\n",
              "Name: target, Length: 8124, dtype: object"
            ]
          },
          "metadata": {},
          "execution_count": 32
        }
      ]
    },
    {
      "cell_type": "code",
      "source": [
        "mapping = {\"Q\": 1, \"F\": 0}\n",
        "numerical_target = [mapping[val] for val in target]\n",
        "\n",
        "# Convert list to a tensor\n",
        "t_dep = tensor(numerical_target)"
      ],
      "metadata": {
        "id": "ne4_lVM-ghSh"
      },
      "execution_count": null,
      "outputs": []
    },
    {
      "cell_type": "code",
      "source": [
        "#get dummies:\n",
        "\n",
        "df = pd.get_dummies(data)"
      ],
      "metadata": {
        "id": "20-uEsjVahP7"
      },
      "execution_count": null,
      "outputs": []
    },
    {
      "cell_type": "code",
      "source": [
        "df.head(10)"
      ],
      "metadata": {
        "id": "YM8YK3WsazOk",
        "outputId": "f3acba2e-e9a6-43f2-97b5-5250d8de8259",
        "colab": {
          "base_uri": "https://localhost:8080/",
          "height": 474
        }
      },
      "execution_count": null,
      "outputs": [
        {
          "output_type": "stream",
          "name": "stdout",
          "text": [
            "Warning: Total number of columns (119) exceeds max_columns (20). Falling back to pandas display.\n"
          ]
        },
        {
          "output_type": "execute_result",
          "data": {
            "text/plain": [
              "   target_F  target_Q  variable_1_C  variable_1_D  variable_1_G  variable_1_L  \\\n",
              "0         0         1             0             0             0             0   \n",
              "1         1         0             0             0             0             0   \n",
              "2         1         0             1             0             0             0   \n",
              "3         0         1             0             0             0             0   \n",
              "4         1         0             0             0             0             0   \n",
              "5         1         0             0             0             0             0   \n",
              "6         1         0             1             0             0             0   \n",
              "7         1         0             1             0             0             0   \n",
              "8         0         1             0             0             0             0   \n",
              "9         1         0             1             0             0             0   \n",
              "\n",
              "   variable_1_T  variable_1_Y  variable_2_G  variable_2_H  ...  variable_21_T  \\\n",
              "0             0             1             0             0  ...              1   \n",
              "1             0             1             0             0  ...              0   \n",
              "2             0             0             0             0  ...              0   \n",
              "3             0             1             0             0  ...              1   \n",
              "4             0             1             0             0  ...              0   \n",
              "5             0             1             0             0  ...              0   \n",
              "6             0             0             0             0  ...              0   \n",
              "7             0             0             0             0  ...              1   \n",
              "8             0             1             0             0  ...              0   \n",
              "9             0             0             0             0  ...              1   \n",
              "\n",
              "   variable_21_W  variable_21_Z  variable_22_E  variable_22_H  variable_22_M  \\\n",
              "0              0              0              0              0              0   \n",
              "1              0              0              0              1              0   \n",
              "2              0              0              0              0              0   \n",
              "3              0              0              0              0              0   \n",
              "4              0              0              0              1              0   \n",
              "5              0              0              0              1              0   \n",
              "6              0              0              0              0              0   \n",
              "7              0              0              0              0              0   \n",
              "8              1              0              0              1              0   \n",
              "9              0              0              0              0              0   \n",
              "\n",
              "   variable_22_N  variable_22_Q  variable_22_V  variable_22_X  \n",
              "0              0              0              1              0  \n",
              "1              0              0              0              0  \n",
              "2              1              0              0              0  \n",
              "3              0              0              1              0  \n",
              "4              0              0              0              0  \n",
              "5              0              0              0              0  \n",
              "6              1              0              0              0  \n",
              "7              1              0              0              0  \n",
              "8              0              0              0              0  \n",
              "9              1              0              0              0  \n",
              "\n",
              "[10 rows x 119 columns]"
            ],
            "text/html": [
              "\n",
              "  <div id=\"df-dfcfd0ab-ff06-45fc-9df4-b385a9676766\">\n",
              "    <div class=\"colab-df-container\">\n",
              "      <div>\n",
              "<style scoped>\n",
              "    .dataframe tbody tr th:only-of-type {\n",
              "        vertical-align: middle;\n",
              "    }\n",
              "\n",
              "    .dataframe tbody tr th {\n",
              "        vertical-align: top;\n",
              "    }\n",
              "\n",
              "    .dataframe thead th {\n",
              "        text-align: right;\n",
              "    }\n",
              "</style>\n",
              "<table border=\"1\" class=\"dataframe\">\n",
              "  <thead>\n",
              "    <tr style=\"text-align: right;\">\n",
              "      <th></th>\n",
              "      <th>target_F</th>\n",
              "      <th>target_Q</th>\n",
              "      <th>variable_1_C</th>\n",
              "      <th>variable_1_D</th>\n",
              "      <th>variable_1_G</th>\n",
              "      <th>variable_1_L</th>\n",
              "      <th>variable_1_T</th>\n",
              "      <th>variable_1_Y</th>\n",
              "      <th>variable_2_G</th>\n",
              "      <th>variable_2_H</th>\n",
              "      <th>...</th>\n",
              "      <th>variable_21_T</th>\n",
              "      <th>variable_21_W</th>\n",
              "      <th>variable_21_Z</th>\n",
              "      <th>variable_22_E</th>\n",
              "      <th>variable_22_H</th>\n",
              "      <th>variable_22_M</th>\n",
              "      <th>variable_22_N</th>\n",
              "      <th>variable_22_Q</th>\n",
              "      <th>variable_22_V</th>\n",
              "      <th>variable_22_X</th>\n",
              "    </tr>\n",
              "  </thead>\n",
              "  <tbody>\n",
              "    <tr>\n",
              "      <th>0</th>\n",
              "      <td>0</td>\n",
              "      <td>1</td>\n",
              "      <td>0</td>\n",
              "      <td>0</td>\n",
              "      <td>0</td>\n",
              "      <td>0</td>\n",
              "      <td>0</td>\n",
              "      <td>1</td>\n",
              "      <td>0</td>\n",
              "      <td>0</td>\n",
              "      <td>...</td>\n",
              "      <td>1</td>\n",
              "      <td>0</td>\n",
              "      <td>0</td>\n",
              "      <td>0</td>\n",
              "      <td>0</td>\n",
              "      <td>0</td>\n",
              "      <td>0</td>\n",
              "      <td>0</td>\n",
              "      <td>1</td>\n",
              "      <td>0</td>\n",
              "    </tr>\n",
              "    <tr>\n",
              "      <th>1</th>\n",
              "      <td>1</td>\n",
              "      <td>0</td>\n",
              "      <td>0</td>\n",
              "      <td>0</td>\n",
              "      <td>0</td>\n",
              "      <td>0</td>\n",
              "      <td>0</td>\n",
              "      <td>1</td>\n",
              "      <td>0</td>\n",
              "      <td>0</td>\n",
              "      <td>...</td>\n",
              "      <td>0</td>\n",
              "      <td>0</td>\n",
              "      <td>0</td>\n",
              "      <td>0</td>\n",
              "      <td>1</td>\n",
              "      <td>0</td>\n",
              "      <td>0</td>\n",
              "      <td>0</td>\n",
              "      <td>0</td>\n",
              "      <td>0</td>\n",
              "    </tr>\n",
              "    <tr>\n",
              "      <th>2</th>\n",
              "      <td>1</td>\n",
              "      <td>0</td>\n",
              "      <td>1</td>\n",
              "      <td>0</td>\n",
              "      <td>0</td>\n",
              "      <td>0</td>\n",
              "      <td>0</td>\n",
              "      <td>0</td>\n",
              "      <td>0</td>\n",
              "      <td>0</td>\n",
              "      <td>...</td>\n",
              "      <td>0</td>\n",
              "      <td>0</td>\n",
              "      <td>0</td>\n",
              "      <td>0</td>\n",
              "      <td>0</td>\n",
              "      <td>0</td>\n",
              "      <td>1</td>\n",
              "      <td>0</td>\n",
              "      <td>0</td>\n",
              "      <td>0</td>\n",
              "    </tr>\n",
              "    <tr>\n",
              "      <th>3</th>\n",
              "      <td>0</td>\n",
              "      <td>1</td>\n",
              "      <td>0</td>\n",
              "      <td>0</td>\n",
              "      <td>0</td>\n",
              "      <td>0</td>\n",
              "      <td>0</td>\n",
              "      <td>1</td>\n",
              "      <td>0</td>\n",
              "      <td>0</td>\n",
              "      <td>...</td>\n",
              "      <td>1</td>\n",
              "      <td>0</td>\n",
              "      <td>0</td>\n",
              "      <td>0</td>\n",
              "      <td>0</td>\n",
              "      <td>0</td>\n",
              "      <td>0</td>\n",
              "      <td>0</td>\n",
              "      <td>1</td>\n",
              "      <td>0</td>\n",
              "    </tr>\n",
              "    <tr>\n",
              "      <th>4</th>\n",
              "      <td>1</td>\n",
              "      <td>0</td>\n",
              "      <td>0</td>\n",
              "      <td>0</td>\n",
              "      <td>0</td>\n",
              "      <td>0</td>\n",
              "      <td>0</td>\n",
              "      <td>1</td>\n",
              "      <td>0</td>\n",
              "      <td>0</td>\n",
              "      <td>...</td>\n",
              "      <td>0</td>\n",
              "      <td>0</td>\n",
              "      <td>0</td>\n",
              "      <td>0</td>\n",
              "      <td>1</td>\n",
              "      <td>0</td>\n",
              "      <td>0</td>\n",
              "      <td>0</td>\n",
              "      <td>0</td>\n",
              "      <td>0</td>\n",
              "    </tr>\n",
              "    <tr>\n",
              "      <th>5</th>\n",
              "      <td>1</td>\n",
              "      <td>0</td>\n",
              "      <td>0</td>\n",
              "      <td>0</td>\n",
              "      <td>0</td>\n",
              "      <td>0</td>\n",
              "      <td>0</td>\n",
              "      <td>1</td>\n",
              "      <td>0</td>\n",
              "      <td>0</td>\n",
              "      <td>...</td>\n",
              "      <td>0</td>\n",
              "      <td>0</td>\n",
              "      <td>0</td>\n",
              "      <td>0</td>\n",
              "      <td>1</td>\n",
              "      <td>0</td>\n",
              "      <td>0</td>\n",
              "      <td>0</td>\n",
              "      <td>0</td>\n",
              "      <td>0</td>\n",
              "    </tr>\n",
              "    <tr>\n",
              "      <th>6</th>\n",
              "      <td>1</td>\n",
              "      <td>0</td>\n",
              "      <td>1</td>\n",
              "      <td>0</td>\n",
              "      <td>0</td>\n",
              "      <td>0</td>\n",
              "      <td>0</td>\n",
              "      <td>0</td>\n",
              "      <td>0</td>\n",
              "      <td>0</td>\n",
              "      <td>...</td>\n",
              "      <td>0</td>\n",
              "      <td>0</td>\n",
              "      <td>0</td>\n",
              "      <td>0</td>\n",
              "      <td>0</td>\n",
              "      <td>0</td>\n",
              "      <td>1</td>\n",
              "      <td>0</td>\n",
              "      <td>0</td>\n",
              "      <td>0</td>\n",
              "    </tr>\n",
              "    <tr>\n",
              "      <th>7</th>\n",
              "      <td>1</td>\n",
              "      <td>0</td>\n",
              "      <td>1</td>\n",
              "      <td>0</td>\n",
              "      <td>0</td>\n",
              "      <td>0</td>\n",
              "      <td>0</td>\n",
              "      <td>0</td>\n",
              "      <td>0</td>\n",
              "      <td>0</td>\n",
              "      <td>...</td>\n",
              "      <td>1</td>\n",
              "      <td>0</td>\n",
              "      <td>0</td>\n",
              "      <td>0</td>\n",
              "      <td>0</td>\n",
              "      <td>0</td>\n",
              "      <td>1</td>\n",
              "      <td>0</td>\n",
              "      <td>0</td>\n",
              "      <td>0</td>\n",
              "    </tr>\n",
              "    <tr>\n",
              "      <th>8</th>\n",
              "      <td>0</td>\n",
              "      <td>1</td>\n",
              "      <td>0</td>\n",
              "      <td>0</td>\n",
              "      <td>0</td>\n",
              "      <td>0</td>\n",
              "      <td>0</td>\n",
              "      <td>1</td>\n",
              "      <td>0</td>\n",
              "      <td>0</td>\n",
              "      <td>...</td>\n",
              "      <td>0</td>\n",
              "      <td>1</td>\n",
              "      <td>0</td>\n",
              "      <td>0</td>\n",
              "      <td>1</td>\n",
              "      <td>0</td>\n",
              "      <td>0</td>\n",
              "      <td>0</td>\n",
              "      <td>0</td>\n",
              "      <td>0</td>\n",
              "    </tr>\n",
              "    <tr>\n",
              "      <th>9</th>\n",
              "      <td>1</td>\n",
              "      <td>0</td>\n",
              "      <td>1</td>\n",
              "      <td>0</td>\n",
              "      <td>0</td>\n",
              "      <td>0</td>\n",
              "      <td>0</td>\n",
              "      <td>0</td>\n",
              "      <td>0</td>\n",
              "      <td>0</td>\n",
              "      <td>...</td>\n",
              "      <td>1</td>\n",
              "      <td>0</td>\n",
              "      <td>0</td>\n",
              "      <td>0</td>\n",
              "      <td>0</td>\n",
              "      <td>0</td>\n",
              "      <td>1</td>\n",
              "      <td>0</td>\n",
              "      <td>0</td>\n",
              "      <td>0</td>\n",
              "    </tr>\n",
              "  </tbody>\n",
              "</table>\n",
              "<p>10 rows × 119 columns</p>\n",
              "</div>\n",
              "      <button class=\"colab-df-convert\" onclick=\"convertToInteractive('df-dfcfd0ab-ff06-45fc-9df4-b385a9676766')\"\n",
              "              title=\"Convert this dataframe to an interactive table.\"\n",
              "              style=\"display:none;\">\n",
              "        \n",
              "  <svg xmlns=\"http://www.w3.org/2000/svg\" height=\"24px\"viewBox=\"0 0 24 24\"\n",
              "       width=\"24px\">\n",
              "    <path d=\"M0 0h24v24H0V0z\" fill=\"none\"/>\n",
              "    <path d=\"M18.56 5.44l.94 2.06.94-2.06 2.06-.94-2.06-.94-.94-2.06-.94 2.06-2.06.94zm-11 1L8.5 8.5l.94-2.06 2.06-.94-2.06-.94L8.5 2.5l-.94 2.06-2.06.94zm10 10l.94 2.06.94-2.06 2.06-.94-2.06-.94-.94-2.06-.94 2.06-2.06.94z\"/><path d=\"M17.41 7.96l-1.37-1.37c-.4-.4-.92-.59-1.43-.59-.52 0-1.04.2-1.43.59L10.3 9.45l-7.72 7.72c-.78.78-.78 2.05 0 2.83L4 21.41c.39.39.9.59 1.41.59.51 0 1.02-.2 1.41-.59l7.78-7.78 2.81-2.81c.8-.78.8-2.07 0-2.86zM5.41 20L4 18.59l7.72-7.72 1.47 1.35L5.41 20z\"/>\n",
              "  </svg>\n",
              "      </button>\n",
              "      \n",
              "  <style>\n",
              "    .colab-df-container {\n",
              "      display:flex;\n",
              "      flex-wrap:wrap;\n",
              "      gap: 12px;\n",
              "    }\n",
              "\n",
              "    .colab-df-convert {\n",
              "      background-color: #E8F0FE;\n",
              "      border: none;\n",
              "      border-radius: 50%;\n",
              "      cursor: pointer;\n",
              "      display: none;\n",
              "      fill: #1967D2;\n",
              "      height: 32px;\n",
              "      padding: 0 0 0 0;\n",
              "      width: 32px;\n",
              "    }\n",
              "\n",
              "    .colab-df-convert:hover {\n",
              "      background-color: #E2EBFA;\n",
              "      box-shadow: 0px 1px 2px rgba(60, 64, 67, 0.3), 0px 1px 3px 1px rgba(60, 64, 67, 0.15);\n",
              "      fill: #174EA6;\n",
              "    }\n",
              "\n",
              "    [theme=dark] .colab-df-convert {\n",
              "      background-color: #3B4455;\n",
              "      fill: #D2E3FC;\n",
              "    }\n",
              "\n",
              "    [theme=dark] .colab-df-convert:hover {\n",
              "      background-color: #434B5C;\n",
              "      box-shadow: 0px 1px 3px 1px rgba(0, 0, 0, 0.15);\n",
              "      filter: drop-shadow(0px 1px 2px rgba(0, 0, 0, 0.3));\n",
              "      fill: #FFFFFF;\n",
              "    }\n",
              "  </style>\n",
              "\n",
              "      <script>\n",
              "        const buttonEl =\n",
              "          document.querySelector('#df-dfcfd0ab-ff06-45fc-9df4-b385a9676766 button.colab-df-convert');\n",
              "        buttonEl.style.display =\n",
              "          google.colab.kernel.accessAllowed ? 'block' : 'none';\n",
              "\n",
              "        async function convertToInteractive(key) {\n",
              "          const element = document.querySelector('#df-dfcfd0ab-ff06-45fc-9df4-b385a9676766');\n",
              "          const dataTable =\n",
              "            await google.colab.kernel.invokeFunction('convertToInteractive',\n",
              "                                                     [key], {});\n",
              "          if (!dataTable) return;\n",
              "\n",
              "          const docLinkHtml = 'Like what you see? Visit the ' +\n",
              "            '<a target=\"_blank\" href=https://colab.research.google.com/notebooks/data_table.ipynb>data table notebook</a>'\n",
              "            + ' to learn more about interactive tables.';\n",
              "          element.innerHTML = '';\n",
              "          dataTable['output_type'] = 'display_data';\n",
              "          await google.colab.output.renderOutput(dataTable, element);\n",
              "          const docLink = document.createElement('div');\n",
              "          docLink.innerHTML = docLinkHtml;\n",
              "          element.appendChild(docLink);\n",
              "        }\n",
              "      </script>\n",
              "    </div>\n",
              "  </div>\n",
              "  "
            ]
          },
          "metadata": {},
          "execution_count": 25
        }
      ]
    },
    {
      "cell_type": "code",
      "source": [
        "df_indep = df.iloc[:, 2:]\n"
      ],
      "metadata": {
        "id": "6AROPYO7bD6H"
      },
      "execution_count": null,
      "outputs": []
    },
    {
      "cell_type": "code",
      "source": [
        "df_indep"
      ],
      "metadata": {
        "id": "peG4CjW3hzLZ",
        "outputId": "0e83a7f3-376d-4ed4-92c8-c73598fb1aa1",
        "colab": {
          "base_uri": "https://localhost:8080/",
          "height": 505
        }
      },
      "execution_count": null,
      "outputs": [
        {
          "output_type": "stream",
          "name": "stdout",
          "text": [
            "Warning: Total number of columns (117) exceeds max_columns (20). Falling back to pandas display.\n"
          ]
        },
        {
          "output_type": "execute_result",
          "data": {
            "text/plain": [
              "      variable_1_C  variable_1_D  variable_1_G  variable_1_L  variable_1_T  \\\n",
              "0                0             0             0             0             0   \n",
              "1                0             0             0             0             0   \n",
              "2                1             0             0             0             0   \n",
              "3                0             0             0             0             0   \n",
              "4                0             0             0             0             0   \n",
              "...            ...           ...           ...           ...           ...   \n",
              "8119             0             0             0             1             0   \n",
              "8120             0             0             0             0             0   \n",
              "8121             0             0             1             0             0   \n",
              "8122             0             0             0             1             0   \n",
              "8123             0             0             0             0             0   \n",
              "\n",
              "      variable_1_Y  variable_2_G  variable_2_H  variable_2_T  variable_2_Z  \\\n",
              "0                1             0             0             1             0   \n",
              "1                1             0             0             1             0   \n",
              "2                0             0             0             1             0   \n",
              "3                1             0             0             0             1   \n",
              "4                1             0             0             1             0   \n",
              "...            ...           ...           ...           ...           ...   \n",
              "8119             0             0             0             1             0   \n",
              "8120             1             0             0             1             0   \n",
              "8121             0             0             0             1             0   \n",
              "8122             0             0             0             0             1   \n",
              "8123             1             0             0             1             0   \n",
              "\n",
              "      ...  variable_21_T  variable_21_W  variable_21_Z  variable_22_E  \\\n",
              "0     ...              1              0              0              0   \n",
              "1     ...              0              0              0              0   \n",
              "2     ...              0              0              0              0   \n",
              "3     ...              1              0              0              0   \n",
              "4     ...              0              0              0              0   \n",
              "...   ...            ...            ...            ...            ...   \n",
              "8119  ...              0              0              0              0   \n",
              "8120  ...              0              1              0              0   \n",
              "8121  ...              0              0              0              0   \n",
              "8122  ...              0              1              0              0   \n",
              "8123  ...              0              0              0              0   \n",
              "\n",
              "      variable_22_H  variable_22_M  variable_22_N  variable_22_Q  \\\n",
              "0                 0              0              0              0   \n",
              "1                 1              0              0              0   \n",
              "2                 0              0              1              0   \n",
              "3                 0              0              0              0   \n",
              "4                 1              0              0              0   \n",
              "...             ...            ...            ...            ...   \n",
              "8119              0              1              0              0   \n",
              "8120              0              1              0              0   \n",
              "8121              0              1              0              0   \n",
              "8122              0              1              0              0   \n",
              "8123              0              1              0              0   \n",
              "\n",
              "      variable_22_V  variable_22_X  \n",
              "0                 1              0  \n",
              "1                 0              0  \n",
              "2                 0              0  \n",
              "3                 1              0  \n",
              "4                 0              0  \n",
              "...             ...            ...  \n",
              "8119              0              0  \n",
              "8120              0              0  \n",
              "8121              0              0  \n",
              "8122              0              0  \n",
              "8123              0              0  \n",
              "\n",
              "[8124 rows x 117 columns]"
            ],
            "text/html": [
              "\n",
              "  <div id=\"df-f64b3ea0-b3aa-4bc7-b267-c62eb598bc1f\">\n",
              "    <div class=\"colab-df-container\">\n",
              "      <div>\n",
              "<style scoped>\n",
              "    .dataframe tbody tr th:only-of-type {\n",
              "        vertical-align: middle;\n",
              "    }\n",
              "\n",
              "    .dataframe tbody tr th {\n",
              "        vertical-align: top;\n",
              "    }\n",
              "\n",
              "    .dataframe thead th {\n",
              "        text-align: right;\n",
              "    }\n",
              "</style>\n",
              "<table border=\"1\" class=\"dataframe\">\n",
              "  <thead>\n",
              "    <tr style=\"text-align: right;\">\n",
              "      <th></th>\n",
              "      <th>variable_1_C</th>\n",
              "      <th>variable_1_D</th>\n",
              "      <th>variable_1_G</th>\n",
              "      <th>variable_1_L</th>\n",
              "      <th>variable_1_T</th>\n",
              "      <th>variable_1_Y</th>\n",
              "      <th>variable_2_G</th>\n",
              "      <th>variable_2_H</th>\n",
              "      <th>variable_2_T</th>\n",
              "      <th>variable_2_Z</th>\n",
              "      <th>...</th>\n",
              "      <th>variable_21_T</th>\n",
              "      <th>variable_21_W</th>\n",
              "      <th>variable_21_Z</th>\n",
              "      <th>variable_22_E</th>\n",
              "      <th>variable_22_H</th>\n",
              "      <th>variable_22_M</th>\n",
              "      <th>variable_22_N</th>\n",
              "      <th>variable_22_Q</th>\n",
              "      <th>variable_22_V</th>\n",
              "      <th>variable_22_X</th>\n",
              "    </tr>\n",
              "  </thead>\n",
              "  <tbody>\n",
              "    <tr>\n",
              "      <th>0</th>\n",
              "      <td>0</td>\n",
              "      <td>0</td>\n",
              "      <td>0</td>\n",
              "      <td>0</td>\n",
              "      <td>0</td>\n",
              "      <td>1</td>\n",
              "      <td>0</td>\n",
              "      <td>0</td>\n",
              "      <td>1</td>\n",
              "      <td>0</td>\n",
              "      <td>...</td>\n",
              "      <td>1</td>\n",
              "      <td>0</td>\n",
              "      <td>0</td>\n",
              "      <td>0</td>\n",
              "      <td>0</td>\n",
              "      <td>0</td>\n",
              "      <td>0</td>\n",
              "      <td>0</td>\n",
              "      <td>1</td>\n",
              "      <td>0</td>\n",
              "    </tr>\n",
              "    <tr>\n",
              "      <th>1</th>\n",
              "      <td>0</td>\n",
              "      <td>0</td>\n",
              "      <td>0</td>\n",
              "      <td>0</td>\n",
              "      <td>0</td>\n",
              "      <td>1</td>\n",
              "      <td>0</td>\n",
              "      <td>0</td>\n",
              "      <td>1</td>\n",
              "      <td>0</td>\n",
              "      <td>...</td>\n",
              "      <td>0</td>\n",
              "      <td>0</td>\n",
              "      <td>0</td>\n",
              "      <td>0</td>\n",
              "      <td>1</td>\n",
              "      <td>0</td>\n",
              "      <td>0</td>\n",
              "      <td>0</td>\n",
              "      <td>0</td>\n",
              "      <td>0</td>\n",
              "    </tr>\n",
              "    <tr>\n",
              "      <th>2</th>\n",
              "      <td>1</td>\n",
              "      <td>0</td>\n",
              "      <td>0</td>\n",
              "      <td>0</td>\n",
              "      <td>0</td>\n",
              "      <td>0</td>\n",
              "      <td>0</td>\n",
              "      <td>0</td>\n",
              "      <td>1</td>\n",
              "      <td>0</td>\n",
              "      <td>...</td>\n",
              "      <td>0</td>\n",
              "      <td>0</td>\n",
              "      <td>0</td>\n",
              "      <td>0</td>\n",
              "      <td>0</td>\n",
              "      <td>0</td>\n",
              "      <td>1</td>\n",
              "      <td>0</td>\n",
              "      <td>0</td>\n",
              "      <td>0</td>\n",
              "    </tr>\n",
              "    <tr>\n",
              "      <th>3</th>\n",
              "      <td>0</td>\n",
              "      <td>0</td>\n",
              "      <td>0</td>\n",
              "      <td>0</td>\n",
              "      <td>0</td>\n",
              "      <td>1</td>\n",
              "      <td>0</td>\n",
              "      <td>0</td>\n",
              "      <td>0</td>\n",
              "      <td>1</td>\n",
              "      <td>...</td>\n",
              "      <td>1</td>\n",
              "      <td>0</td>\n",
              "      <td>0</td>\n",
              "      <td>0</td>\n",
              "      <td>0</td>\n",
              "      <td>0</td>\n",
              "      <td>0</td>\n",
              "      <td>0</td>\n",
              "      <td>1</td>\n",
              "      <td>0</td>\n",
              "    </tr>\n",
              "    <tr>\n",
              "      <th>4</th>\n",
              "      <td>0</td>\n",
              "      <td>0</td>\n",
              "      <td>0</td>\n",
              "      <td>0</td>\n",
              "      <td>0</td>\n",
              "      <td>1</td>\n",
              "      <td>0</td>\n",
              "      <td>0</td>\n",
              "      <td>1</td>\n",
              "      <td>0</td>\n",
              "      <td>...</td>\n",
              "      <td>0</td>\n",
              "      <td>0</td>\n",
              "      <td>0</td>\n",
              "      <td>0</td>\n",
              "      <td>1</td>\n",
              "      <td>0</td>\n",
              "      <td>0</td>\n",
              "      <td>0</td>\n",
              "      <td>0</td>\n",
              "      <td>0</td>\n",
              "    </tr>\n",
              "    <tr>\n",
              "      <th>...</th>\n",
              "      <td>...</td>\n",
              "      <td>...</td>\n",
              "      <td>...</td>\n",
              "      <td>...</td>\n",
              "      <td>...</td>\n",
              "      <td>...</td>\n",
              "      <td>...</td>\n",
              "      <td>...</td>\n",
              "      <td>...</td>\n",
              "      <td>...</td>\n",
              "      <td>...</td>\n",
              "      <td>...</td>\n",
              "      <td>...</td>\n",
              "      <td>...</td>\n",
              "      <td>...</td>\n",
              "      <td>...</td>\n",
              "      <td>...</td>\n",
              "      <td>...</td>\n",
              "      <td>...</td>\n",
              "      <td>...</td>\n",
              "      <td>...</td>\n",
              "    </tr>\n",
              "    <tr>\n",
              "      <th>8119</th>\n",
              "      <td>0</td>\n",
              "      <td>0</td>\n",
              "      <td>0</td>\n",
              "      <td>1</td>\n",
              "      <td>0</td>\n",
              "      <td>0</td>\n",
              "      <td>0</td>\n",
              "      <td>0</td>\n",
              "      <td>1</td>\n",
              "      <td>0</td>\n",
              "      <td>...</td>\n",
              "      <td>0</td>\n",
              "      <td>0</td>\n",
              "      <td>0</td>\n",
              "      <td>0</td>\n",
              "      <td>0</td>\n",
              "      <td>1</td>\n",
              "      <td>0</td>\n",
              "      <td>0</td>\n",
              "      <td>0</td>\n",
              "      <td>0</td>\n",
              "    </tr>\n",
              "    <tr>\n",
              "      <th>8120</th>\n",
              "      <td>0</td>\n",
              "      <td>0</td>\n",
              "      <td>0</td>\n",
              "      <td>0</td>\n",
              "      <td>0</td>\n",
              "      <td>1</td>\n",
              "      <td>0</td>\n",
              "      <td>0</td>\n",
              "      <td>1</td>\n",
              "      <td>0</td>\n",
              "      <td>...</td>\n",
              "      <td>0</td>\n",
              "      <td>1</td>\n",
              "      <td>0</td>\n",
              "      <td>0</td>\n",
              "      <td>0</td>\n",
              "      <td>1</td>\n",
              "      <td>0</td>\n",
              "      <td>0</td>\n",
              "      <td>0</td>\n",
              "      <td>0</td>\n",
              "    </tr>\n",
              "    <tr>\n",
              "      <th>8121</th>\n",
              "      <td>0</td>\n",
              "      <td>0</td>\n",
              "      <td>1</td>\n",
              "      <td>0</td>\n",
              "      <td>0</td>\n",
              "      <td>0</td>\n",
              "      <td>0</td>\n",
              "      <td>0</td>\n",
              "      <td>1</td>\n",
              "      <td>0</td>\n",
              "      <td>...</td>\n",
              "      <td>0</td>\n",
              "      <td>0</td>\n",
              "      <td>0</td>\n",
              "      <td>0</td>\n",
              "      <td>0</td>\n",
              "      <td>1</td>\n",
              "      <td>0</td>\n",
              "      <td>0</td>\n",
              "      <td>0</td>\n",
              "      <td>0</td>\n",
              "    </tr>\n",
              "    <tr>\n",
              "      <th>8122</th>\n",
              "      <td>0</td>\n",
              "      <td>0</td>\n",
              "      <td>0</td>\n",
              "      <td>1</td>\n",
              "      <td>0</td>\n",
              "      <td>0</td>\n",
              "      <td>0</td>\n",
              "      <td>0</td>\n",
              "      <td>0</td>\n",
              "      <td>1</td>\n",
              "      <td>...</td>\n",
              "      <td>0</td>\n",
              "      <td>1</td>\n",
              "      <td>0</td>\n",
              "      <td>0</td>\n",
              "      <td>0</td>\n",
              "      <td>1</td>\n",
              "      <td>0</td>\n",
              "      <td>0</td>\n",
              "      <td>0</td>\n",
              "      <td>0</td>\n",
              "    </tr>\n",
              "    <tr>\n",
              "      <th>8123</th>\n",
              "      <td>0</td>\n",
              "      <td>0</td>\n",
              "      <td>0</td>\n",
              "      <td>0</td>\n",
              "      <td>0</td>\n",
              "      <td>1</td>\n",
              "      <td>0</td>\n",
              "      <td>0</td>\n",
              "      <td>1</td>\n",
              "      <td>0</td>\n",
              "      <td>...</td>\n",
              "      <td>0</td>\n",
              "      <td>0</td>\n",
              "      <td>0</td>\n",
              "      <td>0</td>\n",
              "      <td>0</td>\n",
              "      <td>1</td>\n",
              "      <td>0</td>\n",
              "      <td>0</td>\n",
              "      <td>0</td>\n",
              "      <td>0</td>\n",
              "    </tr>\n",
              "  </tbody>\n",
              "</table>\n",
              "<p>8124 rows × 117 columns</p>\n",
              "</div>\n",
              "      <button class=\"colab-df-convert\" onclick=\"convertToInteractive('df-f64b3ea0-b3aa-4bc7-b267-c62eb598bc1f')\"\n",
              "              title=\"Convert this dataframe to an interactive table.\"\n",
              "              style=\"display:none;\">\n",
              "        \n",
              "  <svg xmlns=\"http://www.w3.org/2000/svg\" height=\"24px\"viewBox=\"0 0 24 24\"\n",
              "       width=\"24px\">\n",
              "    <path d=\"M0 0h24v24H0V0z\" fill=\"none\"/>\n",
              "    <path d=\"M18.56 5.44l.94 2.06.94-2.06 2.06-.94-2.06-.94-.94-2.06-.94 2.06-2.06.94zm-11 1L8.5 8.5l.94-2.06 2.06-.94-2.06-.94L8.5 2.5l-.94 2.06-2.06.94zm10 10l.94 2.06.94-2.06 2.06-.94-2.06-.94-.94-2.06-.94 2.06-2.06.94z\"/><path d=\"M17.41 7.96l-1.37-1.37c-.4-.4-.92-.59-1.43-.59-.52 0-1.04.2-1.43.59L10.3 9.45l-7.72 7.72c-.78.78-.78 2.05 0 2.83L4 21.41c.39.39.9.59 1.41.59.51 0 1.02-.2 1.41-.59l7.78-7.78 2.81-2.81c.8-.78.8-2.07 0-2.86zM5.41 20L4 18.59l7.72-7.72 1.47 1.35L5.41 20z\"/>\n",
              "  </svg>\n",
              "      </button>\n",
              "      \n",
              "  <style>\n",
              "    .colab-df-container {\n",
              "      display:flex;\n",
              "      flex-wrap:wrap;\n",
              "      gap: 12px;\n",
              "    }\n",
              "\n",
              "    .colab-df-convert {\n",
              "      background-color: #E8F0FE;\n",
              "      border: none;\n",
              "      border-radius: 50%;\n",
              "      cursor: pointer;\n",
              "      display: none;\n",
              "      fill: #1967D2;\n",
              "      height: 32px;\n",
              "      padding: 0 0 0 0;\n",
              "      width: 32px;\n",
              "    }\n",
              "\n",
              "    .colab-df-convert:hover {\n",
              "      background-color: #E2EBFA;\n",
              "      box-shadow: 0px 1px 2px rgba(60, 64, 67, 0.3), 0px 1px 3px 1px rgba(60, 64, 67, 0.15);\n",
              "      fill: #174EA6;\n",
              "    }\n",
              "\n",
              "    [theme=dark] .colab-df-convert {\n",
              "      background-color: #3B4455;\n",
              "      fill: #D2E3FC;\n",
              "    }\n",
              "\n",
              "    [theme=dark] .colab-df-convert:hover {\n",
              "      background-color: #434B5C;\n",
              "      box-shadow: 0px 1px 3px 1px rgba(0, 0, 0, 0.15);\n",
              "      filter: drop-shadow(0px 1px 2px rgba(0, 0, 0, 0.3));\n",
              "      fill: #FFFFFF;\n",
              "    }\n",
              "  </style>\n",
              "\n",
              "      <script>\n",
              "        const buttonEl =\n",
              "          document.querySelector('#df-f64b3ea0-b3aa-4bc7-b267-c62eb598bc1f button.colab-df-convert');\n",
              "        buttonEl.style.display =\n",
              "          google.colab.kernel.accessAllowed ? 'block' : 'none';\n",
              "\n",
              "        async function convertToInteractive(key) {\n",
              "          const element = document.querySelector('#df-f64b3ea0-b3aa-4bc7-b267-c62eb598bc1f');\n",
              "          const dataTable =\n",
              "            await google.colab.kernel.invokeFunction('convertToInteractive',\n",
              "                                                     [key], {});\n",
              "          if (!dataTable) return;\n",
              "\n",
              "          const docLinkHtml = 'Like what you see? Visit the ' +\n",
              "            '<a target=\"_blank\" href=https://colab.research.google.com/notebooks/data_table.ipynb>data table notebook</a>'\n",
              "            + ' to learn more about interactive tables.';\n",
              "          element.innerHTML = '';\n",
              "          dataTable['output_type'] = 'display_data';\n",
              "          await google.colab.output.renderOutput(dataTable, element);\n",
              "          const docLink = document.createElement('div');\n",
              "          docLink.innerHTML = docLinkHtml;\n",
              "          element.appendChild(docLink);\n",
              "        }\n",
              "      </script>\n",
              "    </div>\n",
              "  </div>\n",
              "  "
            ]
          },
          "metadata": {},
          "execution_count": 40
        }
      ]
    },
    {
      "cell_type": "code",
      "source": [
        "t_indep = tensor(df_indep.values, dtype=torch.float)"
      ],
      "metadata": {
        "id": "Dr35OkT6h40E"
      },
      "execution_count": null,
      "outputs": []
    },
    {
      "cell_type": "code",
      "source": [
        "t_indep.shape"
      ],
      "metadata": {
        "id": "v_Ohf-OhiXdN",
        "outputId": "97bc775c-03e7-4749-99eb-b47bf88b38dd",
        "colab": {
          "base_uri": "https://localhost:8080/"
        }
      },
      "execution_count": null,
      "outputs": [
        {
          "output_type": "execute_result",
          "data": {
            "text/plain": [
              "torch.Size([8124, 117])"
            ]
          },
          "metadata": {},
          "execution_count": 50
        }
      ]
    },
    {
      "cell_type": "code",
      "source": [
        "def init_coeffs(n_hidden=20):\n",
        "    layer1 = (torch.rand(n_coeff, n_hidden)-0.5)/n_hidden\n",
        "    layer2 = torch.rand(n_hidden, 1)-0.3\n",
        "    const = torch.rand(1)[0]\n",
        "    return layer1.requires_grad_(),layer2.requires_grad_(),const.requires_grad_()\n",
        "\n",
        "import torch.nn.functional as F\n",
        "\n",
        "def calc_preds(coeffs, indeps):\n",
        "    l1,l2,const = coeffs\n",
        "    res = F.relu(indeps@l1)\n",
        "    res = res@l2 + const\n",
        "    return torch.sigmoid(res)\n",
        "\n",
        "def update_coeffs(coeffs, lr):\n",
        "    for layer in coeffs:\n",
        "        layer.sub_(layer.grad * lr)\n",
        "        layer.grad.zero_()"
      ],
      "metadata": {
        "id": "xJwPdKfyiv6B"
      },
      "execution_count": null,
      "outputs": []
    },
    {
      "cell_type": "code",
      "source": [
        "torch.manual_seed(442)\n",
        "\n",
        "n_coeff = t_indep.shape[1]\n",
        "coeffs = torch.rand(n_coeff)-0.5\n",
        "coeffs"
      ],
      "metadata": {
        "id": "t_YulqCPi1DH",
        "outputId": "b8318211-4e1c-4004-f5a8-9b4ad20639c4",
        "colab": {
          "base_uri": "https://localhost:8080/"
        }
      },
      "execution_count": null,
      "outputs": [
        {
          "output_type": "execute_result",
          "data": {
            "text/plain": [
              "tensor([-0.4629,  0.1386,  0.2409, -0.2262, -0.2632, -0.3147,  0.4876,  0.3136,\n",
              "         0.2799, -0.4392,  0.2103,  0.3625,  0.1722,  0.2324, -0.3575, -0.0010,\n",
              "        -0.1833, -0.2411,  0.0489,  0.0866, -0.0534,  0.3132, -0.1487, -0.2551,\n",
              "         0.3328,  0.1292,  0.2361, -0.2622,  0.4051, -0.2674, -0.2312,  0.1147,\n",
              "         0.4072,  0.2834,  0.0835, -0.0504,  0.4354, -0.3408, -0.4552,  0.1447,\n",
              "        -0.4648, -0.3039, -0.1297, -0.0850,  0.4682,  0.3973, -0.4849,  0.2098,\n",
              "        -0.3018,  0.4185,  0.1089,  0.0791, -0.1708, -0.1882,  0.4861, -0.2534,\n",
              "        -0.2502, -0.0770,  0.3336, -0.4975, -0.2561,  0.0892, -0.4670,  0.3725,\n",
              "        -0.1095,  0.3443, -0.3448,  0.1112, -0.2866,  0.0245, -0.1640, -0.0845,\n",
              "        -0.1318,  0.3686,  0.3743,  0.4772, -0.0329, -0.3076,  0.1449,  0.3728,\n",
              "         0.1066, -0.1043, -0.4297, -0.0069, -0.2685,  0.2132, -0.0946, -0.4802,\n",
              "         0.1940,  0.0919,  0.2913, -0.2694,  0.4454, -0.2993,  0.1581,  0.3215,\n",
              "        -0.1481,  0.2920,  0.0677,  0.2740,  0.2386, -0.2730, -0.3255, -0.3695,\n",
              "         0.1019, -0.2950, -0.3885, -0.3118, -0.1861,  0.3498, -0.4068, -0.3355,\n",
              "        -0.4195,  0.4183,  0.0745, -0.2618,  0.1313])"
            ]
          },
          "metadata": {},
          "execution_count": 56
        }
      ]
    },
    {
      "cell_type": "code",
      "source": [
        "t_indep*coeffs\n"
      ],
      "metadata": {
        "id": "2bzmxd-RjS5g",
        "outputId": "8f0013c3-2d6e-4314-a0ed-53d7869461f4",
        "colab": {
          "base_uri": "https://localhost:8080/"
        }
      },
      "execution_count": null,
      "outputs": [
        {
          "output_type": "execute_result",
          "data": {
            "text/plain": [
              "tensor([[-0.0000,  0.0000,  0.0000,  ...,  0.0000, -0.2618,  0.0000],\n",
              "        [-0.0000,  0.0000,  0.0000,  ...,  0.0000, -0.0000,  0.0000],\n",
              "        [-0.4629,  0.0000,  0.0000,  ...,  0.0000, -0.0000,  0.0000],\n",
              "        ...,\n",
              "        [-0.0000,  0.0000,  0.2409,  ...,  0.0000, -0.0000,  0.0000],\n",
              "        [-0.0000,  0.0000,  0.0000,  ...,  0.0000, -0.0000,  0.0000],\n",
              "        [-0.0000,  0.0000,  0.0000,  ...,  0.0000, -0.0000,  0.0000]])"
            ]
          },
          "metadata": {},
          "execution_count": 57
        }
      ]
    },
    {
      "cell_type": "code",
      "source": [
        "vals,indices = t_indep.max(dim=0)\n",
        "t_indep = t_indep / vals"
      ],
      "metadata": {
        "id": "jBBlpLkXi3bG"
      },
      "execution_count": null,
      "outputs": []
    },
    {
      "cell_type": "code",
      "source": [
        "t_indep*coeffs"
      ],
      "metadata": {
        "id": "P97o6sNpjabU",
        "outputId": "89571a42-1fa3-4921-f725-d48ca0e2cd1e",
        "colab": {
          "base_uri": "https://localhost:8080/"
        }
      },
      "execution_count": null,
      "outputs": [
        {
          "output_type": "execute_result",
          "data": {
            "text/plain": [
              "tensor([[-0.0000,  0.0000,  0.0000,  ...,  0.0000, -0.2618,  0.0000],\n",
              "        [-0.0000,  0.0000,  0.0000,  ...,  0.0000, -0.0000,  0.0000],\n",
              "        [-0.4629,  0.0000,  0.0000,  ...,  0.0000, -0.0000,  0.0000],\n",
              "        ...,\n",
              "        [-0.0000,  0.0000,  0.2409,  ...,  0.0000, -0.0000,  0.0000],\n",
              "        [-0.0000,  0.0000,  0.0000,  ...,  0.0000, -0.0000,  0.0000],\n",
              "        [-0.0000,  0.0000,  0.0000,  ...,  0.0000, -0.0000,  0.0000]])"
            ]
          },
          "metadata": {},
          "execution_count": 59
        }
      ]
    },
    {
      "cell_type": "code",
      "source": [
        "t_indep = t_indep / vals\n"
      ],
      "metadata": {
        "id": "ozdvFcD-jcxf"
      },
      "execution_count": null,
      "outputs": []
    },
    {
      "cell_type": "code",
      "source": [
        "preds = (t_indep*coeffs).sum(axis=1)\n"
      ],
      "metadata": {
        "id": "SatXjmHsjeoZ"
      },
      "execution_count": null,
      "outputs": []
    },
    {
      "cell_type": "code",
      "source": [
        "preds[:10]\n"
      ],
      "metadata": {
        "id": "hhnXXjL3jgPA",
        "outputId": "ae97db81-8f4b-4691-d015-a84809f1b880",
        "colab": {
          "base_uri": "https://localhost:8080/"
        }
      },
      "execution_count": null,
      "outputs": [
        {
          "output_type": "execute_result",
          "data": {
            "text/plain": [
              "tensor([ 1.1211,  0.1683,  1.1884,  0.9827, -0.0693, -0.1522,  1.4092,  0.5461,\n",
              "         1.6326,  1.5236])"
            ]
          },
          "metadata": {},
          "execution_count": 62
        }
      ]
    },
    {
      "cell_type": "code",
      "source": [
        "loss = torch.abs(preds-t_dep).mean()\n",
        "loss"
      ],
      "metadata": {
        "id": "BzgygKTfjjMH",
        "outputId": "838f552c-0d4a-47ad-8465-1739fbb1f21a",
        "colab": {
          "base_uri": "https://localhost:8080/"
        }
      },
      "execution_count": null,
      "outputs": [
        {
          "output_type": "execute_result",
          "data": {
            "text/plain": [
              "tensor(0.9183)"
            ]
          },
          "metadata": {},
          "execution_count": 63
        }
      ]
    },
    {
      "cell_type": "code",
      "source": [
        "def calc_preds(coeffs, indeps): return (indeps*coeffs).sum(axis=1)\n",
        "def calc_loss(coeffs, indeps, deps): return torch.abs(calc_preds(coeffs, indeps)-deps).mean()"
      ],
      "metadata": {
        "id": "9bN6JYMDjocJ"
      },
      "execution_count": null,
      "outputs": []
    },
    {
      "cell_type": "code",
      "source": [
        "coeffs.requires_grad_()\n"
      ],
      "metadata": {
        "id": "Y3UTKE2vjqPn",
        "outputId": "eb9ed17d-873c-4ca2-cc1a-f54b3fe93fe1",
        "colab": {
          "base_uri": "https://localhost:8080/"
        }
      },
      "execution_count": null,
      "outputs": [
        {
          "output_type": "execute_result",
          "data": {
            "text/plain": [
              "tensor([-0.4629,  0.1386,  0.2409, -0.2262, -0.2632, -0.3147,  0.4876,  0.3136,\n",
              "         0.2799, -0.4392,  0.2103,  0.3625,  0.1722,  0.2324, -0.3575, -0.0010,\n",
              "        -0.1833, -0.2411,  0.0489,  0.0866, -0.0534,  0.3132, -0.1487, -0.2551,\n",
              "         0.3328,  0.1292,  0.2361, -0.2622,  0.4051, -0.2674, -0.2312,  0.1147,\n",
              "         0.4072,  0.2834,  0.0835, -0.0504,  0.4354, -0.3408, -0.4552,  0.1447,\n",
              "        -0.4648, -0.3039, -0.1297, -0.0850,  0.4682,  0.3973, -0.4849,  0.2098,\n",
              "        -0.3018,  0.4185,  0.1089,  0.0791, -0.1708, -0.1882,  0.4861, -0.2534,\n",
              "        -0.2502, -0.0770,  0.3336, -0.4975, -0.2561,  0.0892, -0.4670,  0.3725,\n",
              "        -0.1095,  0.3443, -0.3448,  0.1112, -0.2866,  0.0245, -0.1640, -0.0845,\n",
              "        -0.1318,  0.3686,  0.3743,  0.4772, -0.0329, -0.3076,  0.1449,  0.3728,\n",
              "         0.1066, -0.1043, -0.4297, -0.0069, -0.2685,  0.2132, -0.0946, -0.4802,\n",
              "         0.1940,  0.0919,  0.2913, -0.2694,  0.4454, -0.2993,  0.1581,  0.3215,\n",
              "        -0.1481,  0.2920,  0.0677,  0.2740,  0.2386, -0.2730, -0.3255, -0.3695,\n",
              "         0.1019, -0.2950, -0.3885, -0.3118, -0.1861,  0.3498, -0.4068, -0.3355,\n",
              "        -0.4195,  0.4183,  0.0745, -0.2618,  0.1313], requires_grad=True)"
            ]
          },
          "metadata": {},
          "execution_count": 65
        }
      ]
    },
    {
      "cell_type": "code",
      "source": [
        "loss = calc_loss(coeffs, t_indep, t_dep)\n",
        "loss"
      ],
      "metadata": {
        "id": "6ZM3kiU6ju65",
        "outputId": "49687180-8f98-4602-e79e-9d61137cc795",
        "colab": {
          "base_uri": "https://localhost:8080/"
        }
      },
      "execution_count": null,
      "outputs": [
        {
          "output_type": "execute_result",
          "data": {
            "text/plain": [
              "tensor(0.9183, grad_fn=<MeanBackward0>)"
            ]
          },
          "metadata": {},
          "execution_count": 66
        }
      ]
    },
    {
      "cell_type": "code",
      "source": [
        "loss.backward()\n"
      ],
      "metadata": {
        "id": "tOSA4GW3jxTU"
      },
      "execution_count": null,
      "outputs": []
    },
    {
      "cell_type": "code",
      "source": [
        "coeffs.grad\n"
      ],
      "metadata": {
        "id": "sJzssdTdjzlx",
        "outputId": "10c71ff2-fb61-4d5f-9631-001033816d59",
        "colab": {
          "base_uri": "https://localhost:8080/"
        }
      },
      "execution_count": null,
      "outputs": [
        {
          "output_type": "execute_result",
          "data": {
            "text/plain": [
              "tensor([ 5.9084e-03, -2.4618e-04,  1.6100e-01, -7.8287e-02,  3.9389e-03,\n",
              "         3.0281e-02,  1.9104e-01,  0.0000e+00, -6.0069e-02, -8.3703e-03,\n",
              "         6.6470e-03,  2.4618e-04, -2.6096e-02,  1.2211e-01, -9.0103e-02,\n",
              "         9.8474e-04, -9.8474e-04, -9.8474e-04,  2.8804e-02,  8.1979e-02,\n",
              "        -1.4451e-01,  2.6711e-01,  3.7174e-02, -2.9542e-03,  4.7514e-02,\n",
              "         4.2836e-02, -4.4313e-03,  1.1891e-01,  1.8710e-02, -6.7947e-02,\n",
              "        -6.7208e-02, -2.5849e-02,  1.4845e-01,  1.4032e-01, -1.7725e-02,\n",
              "         2.7917e-01, -1.5657e-01, -1.8808e-01, -2.4618e-03,  4.7514e-02,\n",
              "        -1.1078e-02,  4.4313e-03,  4.8744e-02, -7.8779e-03,  1.4673e-01,\n",
              "         2.2157e-03,  1.2555e-02,  8.0502e-02, -1.0586e-02,  1.4968e-01,\n",
              "        -2.7080e-02,  2.6563e-01,  3.9143e-02,  2.2403e-02,  2.3634e-02,\n",
              "        -2.2821e-01, -2.7573e-02, -2.7573e-02,  1.7971e-01, -1.9695e-03,\n",
              "         3.6928e-03,  1.0340e-02,  9.4535e-02,  1.4032e-02,  3.3973e-02,\n",
              "        -4.4313e-03,  4.9237e-04,  5.6376e-02,  2.7326e-02, -2.3634e-02,\n",
              "        -1.6494e-02,  4.9975e-02, -9.8474e-04,  4.0128e-02, -4.4313e-03,\n",
              "         5.1699e-03,  4.3575e-02,  1.1078e-02, -2.3634e-02,  1.1571e-02,\n",
              "         4.1605e-02, -2.4618e-03,  1.2260e-01, -1.1817e-02, -1.1817e-02,\n",
              "         1.4722e-01, -9.8474e-04, -4.4313e-03,  1.3195e-01, -4.9237e-03,\n",
              "        -1.9645e-01, -2.4618e-03,  9.4781e-02, -4.4313e-03,  2.3117e-01,\n",
              "        -5.9084e-03,  9.7981e-02,  1.3836e-01,  1.0094e-01, -5.9084e-03,\n",
              "         3.2004e-03,  5.9084e-03, -2.0606e-01, -5.9084e-03,  7.6317e-03,\n",
              "        -1.3048e-02,  1.2309e-02,  2.0433e-02, -7.6809e-02,  1.7208e-01,\n",
              "         1.0734e-01,  4.0128e-02, -9.2565e-02,  3.4958e-02,  2.7080e-03,\n",
              "         2.5357e-02,  4.6775e-03])"
            ]
          },
          "metadata": {},
          "execution_count": 68
        }
      ]
    },
    {
      "cell_type": "code",
      "source": [
        "loss = calc_loss(coeffs, t_indep, t_dep)\n",
        "loss.backward()\n",
        "coeffs.grad"
      ],
      "metadata": {
        "id": "dZGSBUhsj4f0",
        "outputId": "a7204b19-e099-43ac-9519-ca534c1d4941",
        "colab": {
          "base_uri": "https://localhost:8080/"
        }
      },
      "execution_count": null,
      "outputs": [
        {
          "output_type": "execute_result",
          "data": {
            "text/plain": [
              "tensor([ 1.1817e-02, -4.9237e-04,  3.2201e-01, -1.5657e-01,  7.8779e-03,\n",
              "         6.0561e-02,  3.8208e-01,  0.0000e+00, -1.2014e-01, -1.6741e-02,\n",
              "         1.3294e-02,  4.9237e-04, -5.2191e-02,  2.4421e-01, -1.8021e-01,\n",
              "         1.9695e-03, -1.9695e-03, -1.9695e-03,  5.7607e-02,  1.6396e-01,\n",
              "        -2.8902e-01,  5.3422e-01,  7.4348e-02, -5.9084e-03,  9.5027e-02,\n",
              "         8.5672e-02, -8.8626e-03,  2.3781e-01,  3.7420e-02, -1.3589e-01,\n",
              "        -1.3442e-01, -5.1699e-02,  2.9690e-01,  2.8065e-01, -3.5451e-02,\n",
              "         5.5835e-01, -3.1315e-01, -3.7617e-01, -4.9237e-03,  9.5027e-02,\n",
              "        -2.2157e-02,  8.8626e-03,  9.7489e-02, -1.5756e-02,  2.9345e-01,\n",
              "         4.4313e-03,  2.5111e-02,  1.6100e-01, -2.1172e-02,  2.9936e-01,\n",
              "        -5.4161e-02,  5.3127e-01,  7.8287e-02,  4.4806e-02,  4.7267e-02,\n",
              "        -4.5643e-01, -5.5145e-02, -5.5145e-02,  3.5943e-01, -3.9389e-03,\n",
              "         7.3855e-03,  2.0679e-02,  1.8907e-01,  2.8065e-02,  6.7947e-02,\n",
              "        -8.8626e-03,  9.8474e-04,  1.1275e-01,  5.4653e-02, -4.7267e-02,\n",
              "        -3.2989e-02,  9.9951e-02, -1.9695e-03,  8.0256e-02, -8.8626e-03,\n",
              "         1.0340e-02,  8.7149e-02,  2.2157e-02, -4.7267e-02,  2.3141e-02,\n",
              "         8.3210e-02, -4.9237e-03,  2.4520e-01, -2.3634e-02, -2.3634e-02,\n",
              "         2.9444e-01, -1.9695e-03, -8.8626e-03,  2.6391e-01, -9.8474e-03,\n",
              "        -3.9291e-01, -4.9237e-03,  1.8956e-01, -8.8626e-03,  4.6233e-01,\n",
              "        -1.1817e-02,  1.9596e-01,  2.7671e-01,  2.0187e-01, -1.1817e-02,\n",
              "         6.4008e-03,  1.1817e-02, -4.1211e-01, -1.1817e-02,  1.5263e-02,\n",
              "        -2.6096e-02,  2.4618e-02,  4.0867e-02, -1.5362e-01,  3.4417e-01,\n",
              "         2.1467e-01,  8.0256e-02, -1.8513e-01,  6.9916e-02,  5.4160e-03,\n",
              "         5.0714e-02,  9.3550e-03])"
            ]
          },
          "metadata": {},
          "execution_count": 69
        }
      ]
    },
    {
      "cell_type": "code",
      "source": [
        "loss = calc_loss(coeffs, t_indep, t_dep)\n",
        "loss.backward()\n",
        "with torch.no_grad():\n",
        "    coeffs.sub_(coeffs.grad * 0.1)\n",
        "    coeffs.grad.zero_()\n",
        "    print(calc_loss(coeffs, t_indep, t_dep))"
      ],
      "metadata": {
        "id": "B_BPgO02j6yP",
        "outputId": "b8d6093e-90de-4bfa-d2ee-c04fa33a9929",
        "colab": {
          "base_uri": "https://localhost:8080/"
        }
      },
      "execution_count": null,
      "outputs": [
        {
          "output_type": "stream",
          "name": "stdout",
          "text": [
            "tensor(0.7530)\n"
          ]
        }
      ]
    },
    {
      "cell_type": "code",
      "source": [
        "trn_split,val_split=RandomSplitter(seed=42)(df)\n",
        "trn_indep,val_indep = t_indep[trn_split],t_indep[val_split]\n",
        "trn_dep,val_dep = t_dep[trn_split],t_dep[val_split]\n",
        "len(trn_indep),len(val_indep)"
      ],
      "metadata": {
        "id": "IVmQ6rrKkDs8",
        "outputId": "45b6f67e-2a37-4085-d79a-1b3b3944aa94",
        "colab": {
          "base_uri": "https://localhost:8080/"
        }
      },
      "execution_count": null,
      "outputs": [
        {
          "output_type": "execute_result",
          "data": {
            "text/plain": [
              "(6500, 1624)"
            ]
          },
          "metadata": {},
          "execution_count": 74
        }
      ]
    },
    {
      "cell_type": "code",
      "source": [
        "coeffs = train_model(18, lr=0.05)\n"
      ],
      "metadata": {
        "id": "vVFgES6dkRoT",
        "outputId": "249c107c-a42c-4a38-b451-93aeaff65d25",
        "colab": {
          "base_uri": "https://localhost:8080/"
        }
      },
      "execution_count": null,
      "outputs": [
        {
          "output_type": "stream",
          "name": "stdout",
          "text": [
            "0.924; 0.880; 0.843; 0.810; 0.781; 0.753; 0.728; 0.705; 0.684; 0.665; 0.648; 0.632; 0.618; 0.605; 0.593; 0.582; 0.572; 0.563; "
          ]
        }
      ]
    },
    {
      "cell_type": "code",
      "source": [
        "preds = calc_preds(coeffs, val_indep)\n",
        "preds"
      ],
      "metadata": {
        "id": "16UgeBtaki1s",
        "outputId": "51c6c73f-3f80-4835-98d0-abf2484d30a1",
        "colab": {
          "base_uri": "https://localhost:8080/"
        }
      },
      "execution_count": null,
      "outputs": [
        {
          "output_type": "execute_result",
          "data": {
            "text/plain": [
              "tensor([ 1.1035, -1.3343,  0.5488,  ...,  0.4359,  0.1704,  1.4131],\n",
              "       grad_fn=<SumBackward1>)"
            ]
          },
          "metadata": {},
          "execution_count": 85
        }
      ]
    },
    {
      "cell_type": "code",
      "source": [
        "results = val_dep.bool()==(preds>0.5)\n",
        "results[:16]"
      ],
      "metadata": {
        "id": "-KeZx3SOkm3t",
        "outputId": "b318b52b-7488-4b09-f65d-07de204781d0",
        "colab": {
          "base_uri": "https://localhost:8080/"
        }
      },
      "execution_count": null,
      "outputs": [
        {
          "output_type": "execute_result",
          "data": {
            "text/plain": [
              "tensor([ True,  True, False,  True,  True,  True,  True,  True,  True,  True,\n",
              "         True,  True,  True, False,  True,  True])"
            ]
          },
          "metadata": {},
          "execution_count": 86
        }
      ]
    },
    {
      "cell_type": "code",
      "source": [
        "results.float().mean()\n"
      ],
      "metadata": {
        "id": "ZkX2rBVhkqH4",
        "outputId": "45e66548-2ebc-4b15-9424-111e2f1285d9",
        "colab": {
          "base_uri": "https://localhost:8080/"
        }
      },
      "execution_count": null,
      "outputs": [
        {
          "output_type": "execute_result",
          "data": {
            "text/plain": [
              "tensor(0.7352)"
            ]
          },
          "metadata": {},
          "execution_count": 87
        }
      ]
    },
    {
      "cell_type": "code",
      "source": [
        "def acc(coeffs): return (val_dep.bool()==(calc_preds(coeffs, val_indep)>0.5)).float().mean()\n",
        "acc(coeffs)"
      ],
      "metadata": {
        "id": "-vCdlCLEktHh",
        "outputId": "6604b480-53a5-4503-d0ff-853e1d3082a5",
        "colab": {
          "base_uri": "https://localhost:8080/"
        }
      },
      "execution_count": null,
      "outputs": [
        {
          "output_type": "execute_result",
          "data": {
            "text/plain": [
              "tensor(0.7352)"
            ]
          },
          "metadata": {},
          "execution_count": 88
        }
      ]
    },
    {
      "cell_type": "code",
      "source": [
        "def calc_preds(coeffs, indeps): return torch.sigmoid((indeps*coeffs).sum(axis=1))\n"
      ],
      "metadata": {
        "id": "L2B8ejojkwAG"
      },
      "execution_count": null,
      "outputs": []
    },
    {
      "cell_type": "code",
      "source": [
        "coeffs = train_model(lr=10)\n"
      ],
      "metadata": {
        "id": "7RXL0nY9kyLk",
        "outputId": "11f4c275-bb50-4e16-a22c-910fc22fe494",
        "colab": {
          "base_uri": "https://localhost:8080/"
        }
      },
      "execution_count": null,
      "outputs": [
        {
          "output_type": "stream",
          "name": "stdout",
          "text": [
            "0.490; 0.147; 0.146; 0.170; 0.091; 0.080; 0.071; 0.065; 0.059; 0.055; 0.052; 0.049; 0.046; 0.044; 0.042; 0.040; 0.039; 0.037; 0.036; 0.035; 0.034; 0.033; 0.032; 0.031; 0.031; 0.030; 0.029; 0.029; 0.028; 0.028; "
          ]
        }
      ]
    },
    {
      "cell_type": "code",
      "source": [
        "acc(coeffs)\n"
      ],
      "metadata": {
        "id": "4Y6aXcSck_BI",
        "outputId": "b686c68b-d51d-47c3-c848-ae7c44975ace",
        "colab": {
          "base_uri": "https://localhost:8080/"
        }
      },
      "execution_count": null,
      "outputs": [
        {
          "output_type": "execute_result",
          "data": {
            "text/plain": [
              "tensor(0.9883)"
            ]
          },
          "metadata": {},
          "execution_count": 97
        }
      ]
    },
    {
      "cell_type": "markdown",
      "source": [
        "Neural Network\n"
      ],
      "metadata": {
        "id": "o6f87Be0lHlT"
      }
    },
    {
      "cell_type": "code",
      "source": [
        "def calc_preds(coeffs, indeps): return torch.sigmoid(indeps@coeffs)\n",
        "def init_coeffs(): return (torch.rand(n_coeff, 1)*0.1).requires_grad_()\n"
      ],
      "metadata": {
        "id": "c71JEf5alJlE"
      },
      "execution_count": null,
      "outputs": []
    },
    {
      "cell_type": "code",
      "source": [
        "trn_dep = trn_dep[:,None]\n",
        "val_dep = val_dep[:,None]"
      ],
      "metadata": {
        "id": "044SiYGqlNxz"
      },
      "execution_count": null,
      "outputs": []
    },
    {
      "cell_type": "code",
      "source": [
        "coeffs = train_model(lr=10)\n"
      ],
      "metadata": {
        "id": "efYGn5KTlP7T",
        "outputId": "9bf01c2c-07f5-45f7-eb69-ca823f3d7fc9",
        "colab": {
          "base_uri": "https://localhost:8080/"
        }
      },
      "execution_count": null,
      "outputs": [
        {
          "output_type": "stream",
          "name": "stdout",
          "text": [
            "0.507; 0.155; 0.154; 0.147; 0.142; 0.097; 0.086; 0.074; 0.066; 0.060; 0.055; 0.052; 0.049; 0.046; 0.044; 0.042; 0.041; 0.039; 0.038; 0.037; 0.036; 0.035; 0.034; 0.033; 0.032; 0.032; 0.031; 0.030; 0.030; 0.029; "
          ]
        }
      ]
    },
    {
      "cell_type": "code",
      "source": [
        "acc(coeffs)"
      ],
      "metadata": {
        "id": "xIftSA28lU3A",
        "outputId": "ddbabfb6-dc3a-4aae-9c63-f6624d6663bb",
        "colab": {
          "base_uri": "https://localhost:8080/"
        }
      },
      "execution_count": null,
      "outputs": [
        {
          "output_type": "execute_result",
          "data": {
            "text/plain": [
              "tensor(0.9846)"
            ]
          },
          "metadata": {},
          "execution_count": 112
        }
      ]
    },
    {
      "cell_type": "code",
      "source": [
        "def update_coeffs(coeffs, lr):\n",
        "    coeffs.sub_(coeffs.grad * lr)\n",
        "    coeffs.grad.zero_()\n",
        "\n",
        "def one_epoch(coeffs, lr):\n",
        "    loss = calc_loss(coeffs, trn_indep, trn_dep)\n",
        "    loss.backward()\n",
        "    with torch.no_grad(): update_coeffs(coeffs, lr)\n",
        "    print(f\"{loss:.3f}\", end=\"; \")\n",
        "\n",
        "def init_coeffs(): return (torch.rand(n_coeff)-0.5).requires_grad_()\n",
        "\n",
        "def train_model(epochs=30, lr=0.01):\n",
        "    torch.manual_seed(442)\n",
        "    coeffs = init_coeffs()\n",
        "    for i in range(epochs): one_epoch(coeffs, lr=lr)\n",
        "    return coeffs\n",
        "\n"
      ],
      "metadata": {
        "id": "ArGPZXl0kKZz"
      },
      "execution_count": null,
      "outputs": []
    },
    {
      "cell_type": "code",
      "source": [
        "coeffs = train_model(lr=10)\n"
      ],
      "metadata": {
        "id": "yljGDZfUlbtW",
        "outputId": "fe70ec0d-629d-4ba9-ffac-df09be6b816e",
        "colab": {
          "base_uri": "https://localhost:8080/"
        }
      },
      "execution_count": null,
      "outputs": [
        {
          "output_type": "stream",
          "name": "stdout",
          "text": [
            "0.507; 0.155; 0.154; 0.147; 0.142; 0.097; 0.086; 0.074; 0.066; 0.060; 0.055; 0.052; 0.049; 0.046; 0.044; 0.042; 0.041; 0.039; 0.038; 0.037; 0.036; 0.035; 0.034; 0.033; 0.032; 0.032; 0.031; 0.030; 0.030; 0.029; "
          ]
        }
      ]
    },
    {
      "cell_type": "code",
      "source": [
        "acc(coeffs)\n"
      ],
      "metadata": {
        "id": "FnE9WbFelo3w",
        "outputId": "5eceb13b-d293-4401-b304-5a38616f62bf",
        "colab": {
          "base_uri": "https://localhost:8080/"
        }
      },
      "execution_count": null,
      "outputs": [
        {
          "output_type": "execute_result",
          "data": {
            "text/plain": [
              "tensor(0.9846)"
            ]
          },
          "metadata": {},
          "execution_count": 118
        }
      ]
    },
    {
      "cell_type": "code",
      "source": [
        "def init_coeffs():\n",
        "    hiddens = [10, 10]  # <-- set this to the size of each hidden layer you want\n",
        "    sizes = [n_coeff] + hiddens + [1]\n",
        "    n = len(sizes)\n",
        "    layers = [(torch.rand(sizes[i], sizes[i+1])-0.3)/sizes[i+1]*4 for i in range(n-1)]\n",
        "    consts = [(torch.rand(1)[0]-0.5)*0.1 for i in range(n-1)]\n",
        "    for l in layers+consts: l.requires_grad_()\n",
        "    return layers,consts\n",
        "\n",
        "import torch.nn.functional as F\n",
        "\n",
        "def calc_preds(coeffs, indeps):\n",
        "    layers,consts = coeffs\n",
        "    n = len(layers)\n",
        "    res = indeps\n",
        "    for i,l in enumerate(layers):\n",
        "        res = res@l + consts[i]\n",
        "        if i!=n-1: res = F.relu(res)\n",
        "    return torch.sigmoid(res)\n",
        "\n",
        "def update_coeffs(coeffs, lr):\n",
        "    layers,consts = coeffs\n",
        "    for layer in layers+consts:\n",
        "        layer.sub_(layer.grad * lr)\n",
        "        layer.grad.zero_()"
      ],
      "metadata": {
        "id": "FDl2PM5ll_f5"
      },
      "execution_count": null,
      "outputs": []
    },
    {
      "cell_type": "code",
      "source": [
        "coeffs = train_model(lr=2)\n"
      ],
      "metadata": {
        "id": "bXHNXaGJmFHf",
        "outputId": "b8df17f0-066b-4a1b-ff81-68aec7c831cb",
        "colab": {
          "base_uri": "https://localhost:8080/"
        }
      },
      "execution_count": null,
      "outputs": [
        {
          "output_type": "stream",
          "name": "stdout",
          "text": [
            "0.516; 0.516; 0.516; 0.516; 0.516; 0.516; 0.516; 0.516; 0.516; 0.516; 0.516; 0.516; 0.516; 0.516; 0.516; 0.516; 0.516; 0.516; 0.516; 0.516; 0.516; 0.516; 0.516; 0.516; 0.516; 0.516; 0.516; 0.516; 0.516; 0.516; "
          ]
        }
      ]
    },
    {
      "cell_type": "code",
      "source": [
        "acc(coeffs)"
      ],
      "metadata": {
        "id": "21Es8zypmHPp",
        "outputId": "0878d75d-8c3d-4bf9-dcfa-c4071863b5a8",
        "colab": {
          "base_uri": "https://localhost:8080/"
        }
      },
      "execution_count": null,
      "outputs": [
        {
          "output_type": "execute_result",
          "data": {
            "text/plain": [
              "tensor(0.4723)"
            ]
          },
          "metadata": {},
          "execution_count": 126
        }
      ]
    }
  ]
}