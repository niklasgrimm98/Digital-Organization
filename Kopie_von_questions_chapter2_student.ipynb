{
  "cells": [
    {
      "cell_type": "markdown",
      "metadata": {
        "id": "view-in-github",
        "colab_type": "text"
      },
      "source": [
        "<a href=\"https://colab.research.google.com/github/niklasgrimm98/Digital-Organization/blob/main/Kopie_von_questions_chapter2_student.ipynb\" target=\"_parent\"><img src=\"https://colab.research.google.com/assets/colab-badge.svg\" alt=\"Open In Colab\"/></a>"
      ]
    },
    {
      "cell_type": "markdown",
      "metadata": {
        "id": "v10yoQjR2ns5"
      },
      "source": [
        "## Framing the Problem\n",
        "Your task is to build a machine learning model that predicts house prices in King County, an area in the US state of Washington, as described in Chapter 2 of the book *Hands-On Machine Learning with Scikit-Learn, Keras & TensorFlow*. Please read chapter 2 carefully in parallel. Your model should learn from the given data and be able to predict new home prices using the given metrics. Let's take a look at our given dataset:"
      ]
    },
    {
      "cell_type": "markdown",
      "metadata": {
        "id": "PAICR2qXyXTr"
      },
      "source": [
        "The following code imports some packages, mounts the Google Drive folder and loads the data. Run the code and adapt the file paths!"
      ]
    },
    {
      "cell_type": "code",
      "execution_count": null,
      "metadata": {
        "colab": {
          "base_uri": "https://localhost:8080/",
          "height": 339
        },
        "id": "GoSAWWcmvXJp",
        "outputId": "d70ece45-ba0c-4c61-a852-e5222431b3ac"
      },
      "outputs": [
        {
          "name": "stdout",
          "output_type": "stream",
          "text": [
            "Mounted at /content/drive\n"
          ]
        },
        {
          "data": {
            "application/vnd.google.colaboratory.module+javascript": "\n      import \"https://ssl.gstatic.com/colaboratory/data_table/99dac6621f6ae8c4/data_table.js\";\n\n      window.createDataTable({\n        data: [[{\n            'v': 0,\n            'f': \"0\",\n        },\n\"20141013T000000\",\n{\n            'v': 221900.0,\n            'f': \"221900.0\",\n        },\n{\n            'v': 3,\n            'f': \"3\",\n        },\n{\n            'v': 1.0,\n            'f': \"1.0\",\n        },\n{\n            'v': 1180,\n            'f': \"1180\",\n        },\n{\n            'v': 5650,\n            'f': \"5650\",\n        },\n{\n            'v': 1.0,\n            'f': \"1.0\",\n        },\n{\n            'v': 0,\n            'f': \"0\",\n        },\n{\n            'v': 0,\n            'f': \"0\",\n        },\n{\n            'v': 3,\n            'f': \"3\",\n        },\n{\n            'v': 7,\n            'f': \"7\",\n        },\n{\n            'v': 1180,\n            'f': \"1180\",\n        },\n{\n            'v': 0,\n            'f': \"0\",\n        },\n{\n            'v': 1955,\n            'f': \"1955\",\n        },\n{\n            'v': 0,\n            'f': \"0\",\n        },\n{\n            'v': 98178,\n            'f': \"98178\",\n        },\n{\n            'v': 47.5112,\n            'f': \"47.5112\",\n        },\n{\n            'v': -122.257,\n            'f': \"-122.257\",\n        }],\n [{\n            'v': 1,\n            'f': \"1\",\n        },\n\"20141209T000000\",\n{\n            'v': 538000.0,\n            'f': \"538000.0\",\n        },\n{\n            'v': 3,\n            'f': \"3\",\n        },\n{\n            'v': 2.25,\n            'f': \"2.25\",\n        },\n{\n            'v': 2570,\n            'f': \"2570\",\n        },\n{\n            'v': 7242,\n            'f': \"7242\",\n        },\n{\n            'v': 2.0,\n            'f': \"2.0\",\n        },\n{\n            'v': 0,\n            'f': \"0\",\n        },\n{\n            'v': 0,\n            'f': \"0\",\n        },\n{\n            'v': 3,\n            'f': \"3\",\n        },\n{\n            'v': 7,\n            'f': \"7\",\n        },\n{\n            'v': 2170,\n            'f': \"2170\",\n        },\n{\n            'v': 400,\n            'f': \"400\",\n        },\n{\n            'v': 1951,\n            'f': \"1951\",\n        },\n{\n            'v': 1991,\n            'f': \"1991\",\n        },\n{\n            'v': 98125,\n            'f': \"98125\",\n        },\n{\n            'v': 47.721,\n            'f': \"47.721\",\n        },\n{\n            'v': -122.319,\n            'f': \"-122.319\",\n        }],\n [{\n            'v': 2,\n            'f': \"2\",\n        },\n\"20150225T000000\",\n{\n            'v': 180000.0,\n            'f': \"180000.0\",\n        },\n{\n            'v': 2,\n            'f': \"2\",\n        },\n{\n            'v': 1.0,\n            'f': \"1.0\",\n        },\n{\n            'v': 770,\n            'f': \"770\",\n        },\n{\n            'v': 10000,\n            'f': \"10000\",\n        },\n{\n            'v': 1.0,\n            'f': \"1.0\",\n        },\n{\n            'v': 0,\n            'f': \"0\",\n        },\n{\n            'v': 0,\n            'f': \"0\",\n        },\n{\n            'v': 3,\n            'f': \"3\",\n        },\n{\n            'v': 6,\n            'f': \"6\",\n        },\n{\n            'v': 770,\n            'f': \"770\",\n        },\n{\n            'v': 0,\n            'f': \"0\",\n        },\n{\n            'v': 1933,\n            'f': \"1933\",\n        },\n{\n            'v': 0,\n            'f': \"0\",\n        },\n{\n            'v': 98028,\n            'f': \"98028\",\n        },\n{\n            'v': 47.7379,\n            'f': \"47.7379\",\n        },\n{\n            'v': -122.233,\n            'f': \"-122.233\",\n        }],\n [{\n            'v': 3,\n            'f': \"3\",\n        },\n\"20141209T000000\",\n{\n            'v': 604000.0,\n            'f': \"604000.0\",\n        },\n{\n            'v': 4,\n            'f': \"4\",\n        },\n{\n            'v': 3.0,\n            'f': \"3.0\",\n        },\n{\n            'v': 1960,\n            'f': \"1960\",\n        },\n{\n            'v': 5000,\n            'f': \"5000\",\n        },\n{\n            'v': 1.0,\n            'f': \"1.0\",\n        },\n{\n            'v': 0,\n            'f': \"0\",\n        },\n{\n            'v': 0,\n            'f': \"0\",\n        },\n{\n            'v': 5,\n            'f': \"5\",\n        },\n{\n            'v': 7,\n            'f': \"7\",\n        },\n{\n            'v': 1050,\n            'f': \"1050\",\n        },\n{\n            'v': 910,\n            'f': \"910\",\n        },\n{\n            'v': 1965,\n            'f': \"1965\",\n        },\n{\n            'v': 0,\n            'f': \"0\",\n        },\n{\n            'v': 98136,\n            'f': \"98136\",\n        },\n{\n            'v': 47.5208,\n            'f': \"47.5208\",\n        },\n{\n            'v': -122.393,\n            'f': \"-122.393\",\n        }],\n [{\n            'v': 4,\n            'f': \"4\",\n        },\n\"20150218T000000\",\n{\n            'v': 510000.0,\n            'f': \"510000.0\",\n        },\n{\n            'v': 3,\n            'f': \"3\",\n        },\n{\n            'v': 2.0,\n            'f': \"2.0\",\n        },\n{\n            'v': 1680,\n            'f': \"1680\",\n        },\n{\n            'v': 8080,\n            'f': \"8080\",\n        },\n{\n            'v': 1.0,\n            'f': \"1.0\",\n        },\n{\n            'v': 0,\n            'f': \"0\",\n        },\n{\n            'v': 0,\n            'f': \"0\",\n        },\n{\n            'v': 3,\n            'f': \"3\",\n        },\n{\n            'v': 8,\n            'f': \"8\",\n        },\n{\n            'v': 1680,\n            'f': \"1680\",\n        },\n{\n            'v': 0,\n            'f': \"0\",\n        },\n{\n            'v': 1987,\n            'f': \"1987\",\n        },\n{\n            'v': 0,\n            'f': \"0\",\n        },\n{\n            'v': 98074,\n            'f': \"98074\",\n        },\n{\n            'v': 47.6168,\n            'f': \"47.6168\",\n        },\n{\n            'v': -122.045,\n            'f': \"-122.045\",\n        }],\n [{\n            'v': 5,\n            'f': \"5\",\n        },\n\"20140512T000000\",\n{\n            'v': 1225000.0,\n            'f': \"1225000.0\",\n        },\n{\n            'v': 4,\n            'f': \"4\",\n        },\n{\n            'v': 4.5,\n            'f': \"4.5\",\n        },\n{\n            'v': 5420,\n            'f': \"5420\",\n        },\n{\n            'v': 101930,\n            'f': \"101930\",\n        },\n{\n            'v': 1.0,\n            'f': \"1.0\",\n        },\n{\n            'v': 0,\n            'f': \"0\",\n        },\n{\n            'v': 0,\n            'f': \"0\",\n        },\n{\n            'v': 3,\n            'f': \"3\",\n        },\n{\n            'v': 11,\n            'f': \"11\",\n        },\n{\n            'v': 3890,\n            'f': \"3890\",\n        },\n{\n            'v': 1530,\n            'f': \"1530\",\n        },\n{\n            'v': 2001,\n            'f': \"2001\",\n        },\n{\n            'v': 0,\n            'f': \"0\",\n        },\n{\n            'v': 98053,\n            'f': \"98053\",\n        },\n{\n            'v': 47.6561,\n            'f': \"47.6561\",\n        },\n{\n            'v': -122.005,\n            'f': \"-122.005\",\n        }],\n [{\n            'v': 6,\n            'f': \"6\",\n        },\n\"20140627T000000\",\n{\n            'v': 257500.0,\n            'f': \"257500.0\",\n        },\n{\n            'v': 3,\n            'f': \"3\",\n        },\n{\n            'v': 2.25,\n            'f': \"2.25\",\n        },\n{\n            'v': 1715,\n            'f': \"1715\",\n        },\n{\n            'v': 6819,\n            'f': \"6819\",\n        },\n{\n            'v': 2.0,\n            'f': \"2.0\",\n        },\n{\n            'v': 0,\n            'f': \"0\",\n        },\n{\n            'v': 0,\n            'f': \"0\",\n        },\n{\n            'v': 3,\n            'f': \"3\",\n        },\n{\n            'v': 7,\n            'f': \"7\",\n        },\n{\n            'v': 1715,\n            'f': \"1715\",\n        },\n{\n            'v': 0,\n            'f': \"0\",\n        },\n{\n            'v': 1995,\n            'f': \"1995\",\n        },\n{\n            'v': 0,\n            'f': \"0\",\n        },\n{\n            'v': 98003,\n            'f': \"98003\",\n        },\n{\n            'v': 47.3097,\n            'f': \"47.3097\",\n        },\n{\n            'v': -122.327,\n            'f': \"-122.327\",\n        }],\n [{\n            'v': 7,\n            'f': \"7\",\n        },\n\"20150115T000000\",\n{\n            'v': 291850.0,\n            'f': \"291850.0\",\n        },\n{\n            'v': 3,\n            'f': \"3\",\n        },\n{\n            'v': 1.5,\n            'f': \"1.5\",\n        },\n{\n            'v': 1060,\n            'f': \"1060\",\n        },\n{\n            'v': 9711,\n            'f': \"9711\",\n        },\n{\n            'v': 1.0,\n            'f': \"1.0\",\n        },\n{\n            'v': 0,\n            'f': \"0\",\n        },\n{\n            'v': 0,\n            'f': \"0\",\n        },\n{\n            'v': 3,\n            'f': \"3\",\n        },\n{\n            'v': 7,\n            'f': \"7\",\n        },\n{\n            'v': 1060,\n            'f': \"1060\",\n        },\n{\n            'v': 0,\n            'f': \"0\",\n        },\n{\n            'v': 1963,\n            'f': \"1963\",\n        },\n{\n            'v': 0,\n            'f': \"0\",\n        },\n{\n            'v': 98198,\n            'f': \"98198\",\n        },\n{\n            'v': 47.4095,\n            'f': \"47.4095\",\n        },\n{\n            'v': -122.315,\n            'f': \"-122.315\",\n        }],\n [{\n            'v': 8,\n            'f': \"8\",\n        },\n\"20150415T000000\",\n{\n            'v': 229500.0,\n            'f': \"229500.0\",\n        },\n{\n            'v': 3,\n            'f': \"3\",\n        },\n{\n            'v': 1.0,\n            'f': \"1.0\",\n        },\n{\n            'v': 1780,\n            'f': \"1780\",\n        },\n{\n            'v': 7470,\n            'f': \"7470\",\n        },\n{\n            'v': 1.0,\n            'f': \"1.0\",\n        },\n{\n            'v': 0,\n            'f': \"0\",\n        },\n{\n            'v': 0,\n            'f': \"0\",\n        },\n{\n            'v': 3,\n            'f': \"3\",\n        },\n{\n            'v': 7,\n            'f': \"7\",\n        },\n{\n            'v': 1050,\n            'f': \"1050\",\n        },\n{\n            'v': 730,\n            'f': \"730\",\n        },\n{\n            'v': 1960,\n            'f': \"1960\",\n        },\n{\n            'v': 0,\n            'f': \"0\",\n        },\n{\n            'v': 98146,\n            'f': \"98146\",\n        },\n{\n            'v': 47.5123,\n            'f': \"47.5123\",\n        },\n{\n            'v': -122.337,\n            'f': \"-122.337\",\n        }],\n [{\n            'v': 9,\n            'f': \"9\",\n        },\n\"20150312T000000\",\n{\n            'v': 323000.0,\n            'f': \"323000.0\",\n        },\n{\n            'v': 3,\n            'f': \"3\",\n        },\n{\n            'v': 2.5,\n            'f': \"2.5\",\n        },\n{\n            'v': 1890,\n            'f': \"1890\",\n        },\n{\n            'v': 6560,\n            'f': \"6560\",\n        },\n{\n            'v': 2.0,\n            'f': \"2.0\",\n        },\n{\n            'v': 0,\n            'f': \"0\",\n        },\n{\n            'v': 0,\n            'f': \"0\",\n        },\n{\n            'v': 3,\n            'f': \"3\",\n        },\n{\n            'v': 7,\n            'f': \"7\",\n        },\n{\n            'v': 1890,\n            'f': \"1890\",\n        },\n{\n            'v': 0,\n            'f': \"0\",\n        },\n{\n            'v': 2003,\n            'f': \"2003\",\n        },\n{\n            'v': 0,\n            'f': \"0\",\n        },\n{\n            'v': 98038,\n            'f': \"98038\",\n        },\n{\n            'v': 47.3684,\n            'f': \"47.3684\",\n        },\n{\n            'v': -122.031,\n            'f': \"-122.031\",\n        }]],\n        columns: [[\"number\", \"index\"], [\"string\", \"date\"], [\"number\", \"price\"], [\"number\", \"bedrooms\"], [\"number\", \"bathrooms\"], [\"number\", \"sqft_living\"], [\"number\", \"sqft_lot\"], [\"number\", \"floors\"], [\"number\", \"waterfront\"], [\"number\", \"view\"], [\"number\", \"condition\"], [\"number\", \"grade\"], [\"number\", \"sqft_above\"], [\"number\", \"sqft_basement\"], [\"number\", \"yr_built\"], [\"number\", \"yr_renovated\"], [\"number\", \"zipcode\"], [\"number\", \"lat\"], [\"number\", \"long\"]],\n        columnOptions: [{\"width\": \"1px\", \"className\": \"index_column\"}],\n        rowsPerPage: 25,\n        helpUrl: \"https://colab.research.google.com/notebooks/data_table.ipynb\",\n        suppressOutputScrolling: true,\n        minimumWidth: undefined,\n      });\n    ",
            "text/html": [
              "\n",
              "  <div id=\"df-be7e7e6c-5c34-48e1-88fa-222ad4b16601\">\n",
              "    <div class=\"colab-df-container\">\n",
              "      <div>\n",
              "<style scoped>\n",
              "    .dataframe tbody tr th:only-of-type {\n",
              "        vertical-align: middle;\n",
              "    }\n",
              "\n",
              "    .dataframe tbody tr th {\n",
              "        vertical-align: top;\n",
              "    }\n",
              "\n",
              "    .dataframe thead th {\n",
              "        text-align: right;\n",
              "    }\n",
              "</style>\n",
              "<table border=\"1\" class=\"dataframe\">\n",
              "  <thead>\n",
              "    <tr style=\"text-align: right;\">\n",
              "      <th></th>\n",
              "      <th>date</th>\n",
              "      <th>price</th>\n",
              "      <th>bedrooms</th>\n",
              "      <th>bathrooms</th>\n",
              "      <th>sqft_living</th>\n",
              "      <th>sqft_lot</th>\n",
              "      <th>floors</th>\n",
              "      <th>waterfront</th>\n",
              "      <th>view</th>\n",
              "      <th>condition</th>\n",
              "      <th>grade</th>\n",
              "      <th>sqft_above</th>\n",
              "      <th>sqft_basement</th>\n",
              "      <th>yr_built</th>\n",
              "      <th>yr_renovated</th>\n",
              "      <th>zipcode</th>\n",
              "      <th>lat</th>\n",
              "      <th>long</th>\n",
              "    </tr>\n",
              "  </thead>\n",
              "  <tbody>\n",
              "    <tr>\n",
              "      <th>0</th>\n",
              "      <td>20141013T000000</td>\n",
              "      <td>221900.0</td>\n",
              "      <td>3</td>\n",
              "      <td>1.00</td>\n",
              "      <td>1180</td>\n",
              "      <td>5650</td>\n",
              "      <td>1.0</td>\n",
              "      <td>0</td>\n",
              "      <td>0</td>\n",
              "      <td>3</td>\n",
              "      <td>7</td>\n",
              "      <td>1180</td>\n",
              "      <td>0</td>\n",
              "      <td>1955</td>\n",
              "      <td>0</td>\n",
              "      <td>98178</td>\n",
              "      <td>47.5112</td>\n",
              "      <td>-122.257</td>\n",
              "    </tr>\n",
              "    <tr>\n",
              "      <th>1</th>\n",
              "      <td>20141209T000000</td>\n",
              "      <td>538000.0</td>\n",
              "      <td>3</td>\n",
              "      <td>2.25</td>\n",
              "      <td>2570</td>\n",
              "      <td>7242</td>\n",
              "      <td>2.0</td>\n",
              "      <td>0</td>\n",
              "      <td>0</td>\n",
              "      <td>3</td>\n",
              "      <td>7</td>\n",
              "      <td>2170</td>\n",
              "      <td>400</td>\n",
              "      <td>1951</td>\n",
              "      <td>1991</td>\n",
              "      <td>98125</td>\n",
              "      <td>47.7210</td>\n",
              "      <td>-122.319</td>\n",
              "    </tr>\n",
              "    <tr>\n",
              "      <th>2</th>\n",
              "      <td>20150225T000000</td>\n",
              "      <td>180000.0</td>\n",
              "      <td>2</td>\n",
              "      <td>1.00</td>\n",
              "      <td>770</td>\n",
              "      <td>10000</td>\n",
              "      <td>1.0</td>\n",
              "      <td>0</td>\n",
              "      <td>0</td>\n",
              "      <td>3</td>\n",
              "      <td>6</td>\n",
              "      <td>770</td>\n",
              "      <td>0</td>\n",
              "      <td>1933</td>\n",
              "      <td>0</td>\n",
              "      <td>98028</td>\n",
              "      <td>47.7379</td>\n",
              "      <td>-122.233</td>\n",
              "    </tr>\n",
              "    <tr>\n",
              "      <th>3</th>\n",
              "      <td>20141209T000000</td>\n",
              "      <td>604000.0</td>\n",
              "      <td>4</td>\n",
              "      <td>3.00</td>\n",
              "      <td>1960</td>\n",
              "      <td>5000</td>\n",
              "      <td>1.0</td>\n",
              "      <td>0</td>\n",
              "      <td>0</td>\n",
              "      <td>5</td>\n",
              "      <td>7</td>\n",
              "      <td>1050</td>\n",
              "      <td>910</td>\n",
              "      <td>1965</td>\n",
              "      <td>0</td>\n",
              "      <td>98136</td>\n",
              "      <td>47.5208</td>\n",
              "      <td>-122.393</td>\n",
              "    </tr>\n",
              "    <tr>\n",
              "      <th>4</th>\n",
              "      <td>20150218T000000</td>\n",
              "      <td>510000.0</td>\n",
              "      <td>3</td>\n",
              "      <td>2.00</td>\n",
              "      <td>1680</td>\n",
              "      <td>8080</td>\n",
              "      <td>1.0</td>\n",
              "      <td>0</td>\n",
              "      <td>0</td>\n",
              "      <td>3</td>\n",
              "      <td>8</td>\n",
              "      <td>1680</td>\n",
              "      <td>0</td>\n",
              "      <td>1987</td>\n",
              "      <td>0</td>\n",
              "      <td>98074</td>\n",
              "      <td>47.6168</td>\n",
              "      <td>-122.045</td>\n",
              "    </tr>\n",
              "    <tr>\n",
              "      <th>5</th>\n",
              "      <td>20140512T000000</td>\n",
              "      <td>1225000.0</td>\n",
              "      <td>4</td>\n",
              "      <td>4.50</td>\n",
              "      <td>5420</td>\n",
              "      <td>101930</td>\n",
              "      <td>1.0</td>\n",
              "      <td>0</td>\n",
              "      <td>0</td>\n",
              "      <td>3</td>\n",
              "      <td>11</td>\n",
              "      <td>3890</td>\n",
              "      <td>1530</td>\n",
              "      <td>2001</td>\n",
              "      <td>0</td>\n",
              "      <td>98053</td>\n",
              "      <td>47.6561</td>\n",
              "      <td>-122.005</td>\n",
              "    </tr>\n",
              "    <tr>\n",
              "      <th>6</th>\n",
              "      <td>20140627T000000</td>\n",
              "      <td>257500.0</td>\n",
              "      <td>3</td>\n",
              "      <td>2.25</td>\n",
              "      <td>1715</td>\n",
              "      <td>6819</td>\n",
              "      <td>2.0</td>\n",
              "      <td>0</td>\n",
              "      <td>0</td>\n",
              "      <td>3</td>\n",
              "      <td>7</td>\n",
              "      <td>1715</td>\n",
              "      <td>0</td>\n",
              "      <td>1995</td>\n",
              "      <td>0</td>\n",
              "      <td>98003</td>\n",
              "      <td>47.3097</td>\n",
              "      <td>-122.327</td>\n",
              "    </tr>\n",
              "    <tr>\n",
              "      <th>7</th>\n",
              "      <td>20150115T000000</td>\n",
              "      <td>291850.0</td>\n",
              "      <td>3</td>\n",
              "      <td>1.50</td>\n",
              "      <td>1060</td>\n",
              "      <td>9711</td>\n",
              "      <td>1.0</td>\n",
              "      <td>0</td>\n",
              "      <td>0</td>\n",
              "      <td>3</td>\n",
              "      <td>7</td>\n",
              "      <td>1060</td>\n",
              "      <td>0</td>\n",
              "      <td>1963</td>\n",
              "      <td>0</td>\n",
              "      <td>98198</td>\n",
              "      <td>47.4095</td>\n",
              "      <td>-122.315</td>\n",
              "    </tr>\n",
              "    <tr>\n",
              "      <th>8</th>\n",
              "      <td>20150415T000000</td>\n",
              "      <td>229500.0</td>\n",
              "      <td>3</td>\n",
              "      <td>1.00</td>\n",
              "      <td>1780</td>\n",
              "      <td>7470</td>\n",
              "      <td>1.0</td>\n",
              "      <td>0</td>\n",
              "      <td>0</td>\n",
              "      <td>3</td>\n",
              "      <td>7</td>\n",
              "      <td>1050</td>\n",
              "      <td>730</td>\n",
              "      <td>1960</td>\n",
              "      <td>0</td>\n",
              "      <td>98146</td>\n",
              "      <td>47.5123</td>\n",
              "      <td>-122.337</td>\n",
              "    </tr>\n",
              "    <tr>\n",
              "      <th>9</th>\n",
              "      <td>20150312T000000</td>\n",
              "      <td>323000.0</td>\n",
              "      <td>3</td>\n",
              "      <td>2.50</td>\n",
              "      <td>1890</td>\n",
              "      <td>6560</td>\n",
              "      <td>2.0</td>\n",
              "      <td>0</td>\n",
              "      <td>0</td>\n",
              "      <td>3</td>\n",
              "      <td>7</td>\n",
              "      <td>1890</td>\n",
              "      <td>0</td>\n",
              "      <td>2003</td>\n",
              "      <td>0</td>\n",
              "      <td>98038</td>\n",
              "      <td>47.3684</td>\n",
              "      <td>-122.031</td>\n",
              "    </tr>\n",
              "  </tbody>\n",
              "</table>\n",
              "</div>\n",
              "      <button class=\"colab-df-convert\" onclick=\"convertToInteractive('df-be7e7e6c-5c34-48e1-88fa-222ad4b16601')\"\n",
              "              title=\"Convert this dataframe to an interactive table.\"\n",
              "              style=\"display:none;\">\n",
              "        \n",
              "  <svg xmlns=\"http://www.w3.org/2000/svg\" height=\"24px\"viewBox=\"0 0 24 24\"\n",
              "       width=\"24px\">\n",
              "    <path d=\"M0 0h24v24H0V0z\" fill=\"none\"/>\n",
              "    <path d=\"M18.56 5.44l.94 2.06.94-2.06 2.06-.94-2.06-.94-.94-2.06-.94 2.06-2.06.94zm-11 1L8.5 8.5l.94-2.06 2.06-.94-2.06-.94L8.5 2.5l-.94 2.06-2.06.94zm10 10l.94 2.06.94-2.06 2.06-.94-2.06-.94-.94-2.06-.94 2.06-2.06.94z\"/><path d=\"M17.41 7.96l-1.37-1.37c-.4-.4-.92-.59-1.43-.59-.52 0-1.04.2-1.43.59L10.3 9.45l-7.72 7.72c-.78.78-.78 2.05 0 2.83L4 21.41c.39.39.9.59 1.41.59.51 0 1.02-.2 1.41-.59l7.78-7.78 2.81-2.81c.8-.78.8-2.07 0-2.86zM5.41 20L4 18.59l7.72-7.72 1.47 1.35L5.41 20z\"/>\n",
              "  </svg>\n",
              "      </button>\n",
              "      \n",
              "  <style>\n",
              "    .colab-df-container {\n",
              "      display:flex;\n",
              "      flex-wrap:wrap;\n",
              "      gap: 12px;\n",
              "    }\n",
              "\n",
              "    .colab-df-convert {\n",
              "      background-color: #E8F0FE;\n",
              "      border: none;\n",
              "      border-radius: 50%;\n",
              "      cursor: pointer;\n",
              "      display: none;\n",
              "      fill: #1967D2;\n",
              "      height: 32px;\n",
              "      padding: 0 0 0 0;\n",
              "      width: 32px;\n",
              "    }\n",
              "\n",
              "    .colab-df-convert:hover {\n",
              "      background-color: #E2EBFA;\n",
              "      box-shadow: 0px 1px 2px rgba(60, 64, 67, 0.3), 0px 1px 3px 1px rgba(60, 64, 67, 0.15);\n",
              "      fill: #174EA6;\n",
              "    }\n",
              "\n",
              "    [theme=dark] .colab-df-convert {\n",
              "      background-color: #3B4455;\n",
              "      fill: #D2E3FC;\n",
              "    }\n",
              "\n",
              "    [theme=dark] .colab-df-convert:hover {\n",
              "      background-color: #434B5C;\n",
              "      box-shadow: 0px 1px 3px 1px rgba(0, 0, 0, 0.15);\n",
              "      filter: drop-shadow(0px 1px 2px rgba(0, 0, 0, 0.3));\n",
              "      fill: #FFFFFF;\n",
              "    }\n",
              "  </style>\n",
              "\n",
              "      <script>\n",
              "        const buttonEl =\n",
              "          document.querySelector('#df-be7e7e6c-5c34-48e1-88fa-222ad4b16601 button.colab-df-convert');\n",
              "        buttonEl.style.display =\n",
              "          google.colab.kernel.accessAllowed ? 'block' : 'none';\n",
              "\n",
              "        async function convertToInteractive(key) {\n",
              "          const element = document.querySelector('#df-be7e7e6c-5c34-48e1-88fa-222ad4b16601');\n",
              "          const dataTable =\n",
              "            await google.colab.kernel.invokeFunction('convertToInteractive',\n",
              "                                                     [key], {});\n",
              "          if (!dataTable) return;\n",
              "\n",
              "          const docLinkHtml = 'Like what you see? Visit the ' +\n",
              "            '<a target=\"_blank\" href=https://colab.research.google.com/notebooks/data_table.ipynb>data table notebook</a>'\n",
              "            + ' to learn more about interactive tables.';\n",
              "          element.innerHTML = '';\n",
              "          dataTable['output_type'] = 'display_data';\n",
              "          await google.colab.output.renderOutput(dataTable, element);\n",
              "          const docLink = document.createElement('div');\n",
              "          docLink.innerHTML = docLinkHtml;\n",
              "          element.appendChild(docLink);\n",
              "        }\n",
              "      </script>\n",
              "    </div>\n",
              "  </div>\n",
              "  "
            ],
            "text/plain": [
              "              date      price  bedrooms  bathrooms  sqft_living  sqft_lot  \\\n",
              "0  20141013T000000   221900.0         3       1.00         1180      5650   \n",
              "1  20141209T000000   538000.0         3       2.25         2570      7242   \n",
              "2  20150225T000000   180000.0         2       1.00          770     10000   \n",
              "3  20141209T000000   604000.0         4       3.00         1960      5000   \n",
              "4  20150218T000000   510000.0         3       2.00         1680      8080   \n",
              "5  20140512T000000  1225000.0         4       4.50         5420    101930   \n",
              "6  20140627T000000   257500.0         3       2.25         1715      6819   \n",
              "7  20150115T000000   291850.0         3       1.50         1060      9711   \n",
              "8  20150415T000000   229500.0         3       1.00         1780      7470   \n",
              "9  20150312T000000   323000.0         3       2.50         1890      6560   \n",
              "\n",
              "   floors  waterfront  view  condition  grade  sqft_above  sqft_basement  \\\n",
              "0     1.0           0     0          3      7        1180              0   \n",
              "1     2.0           0     0          3      7        2170            400   \n",
              "2     1.0           0     0          3      6         770              0   \n",
              "3     1.0           0     0          5      7        1050            910   \n",
              "4     1.0           0     0          3      8        1680              0   \n",
              "5     1.0           0     0          3     11        3890           1530   \n",
              "6     2.0           0     0          3      7        1715              0   \n",
              "7     1.0           0     0          3      7        1060              0   \n",
              "8     1.0           0     0          3      7        1050            730   \n",
              "9     2.0           0     0          3      7        1890              0   \n",
              "\n",
              "   yr_built  yr_renovated  zipcode      lat     long  \n",
              "0      1955             0    98178  47.5112 -122.257  \n",
              "1      1951          1991    98125  47.7210 -122.319  \n",
              "2      1933             0    98028  47.7379 -122.233  \n",
              "3      1965             0    98136  47.5208 -122.393  \n",
              "4      1987             0    98074  47.6168 -122.045  \n",
              "5      2001             0    98053  47.6561 -122.005  \n",
              "6      1995             0    98003  47.3097 -122.327  \n",
              "7      1963             0    98198  47.4095 -122.315  \n",
              "8      1960             0    98146  47.5123 -122.337  \n",
              "9      2003             0    98038  47.3684 -122.031  "
            ]
          },
          "execution_count": 1,
          "metadata": {},
          "output_type": "execute_result"
        }
      ],
      "source": [
        "import pandas as pd\n",
        "import numpy as np\n",
        "from google.colab import drive\n",
        "from google.colab import data_table\n",
        "import matplotlib.pyplot as plt\n",
        "data_table.enable_dataframe_formatter()\n",
        "\n",
        "drive.mount('/content/drive')\n",
        "data = pd.read_csv(\"/content/drive/MyDrive/Colab Notebooks/kc_house_data.csv\")\n",
        "\n",
        "data.head(10)"
      ]
    },
    {
      "cell_type": "markdown",
      "metadata": {
        "id": "Zr8vjVS71BXV"
      },
      "source": [
        "Description of the dataset\n",
        "* id: a notation for a house\n",
        "* date: Date house was sold\n",
        "* price: Price is prediction target\n",
        "* bedrooms: Number of Bedrooms/House\n",
        "* bathrooms: Number of bathrooms/bedrooms\n",
        "* sqft_living: square footage of the home \n",
        "* sqft_lot: square footage of the lot \n",
        "* floors: Total floors (levels) in house \n",
        "* waterfront: House which has a view to a waterfront\n",
        "* view: Has been viewed\n",
        "* condition: How good the condition is Overall \n",
        "* grade: overall grade given to the housing unit, based on King County grading system \n",
        "* sqft_above: square footage of house apart from basement \n",
        "* sqft_basement: square footage of the basement \n",
        "* yr_built: Built Year \n",
        "* yr_renovated: Year when house was renovated \n",
        "* zipcode: zip code \n",
        "* lat: Latitude coordinate \n",
        "* long: Longitude coordinate"
      ]
    },
    {
      "cell_type": "markdown",
      "metadata": {
        "id": "0EWqRqc95C3I"
      },
      "source": [
        "See chapters 1 & 2 for all questions below!\n",
        "\n",
        "What is a machine learning pipeline? Please make a fictitious example that is appropriate for our data set.\n",
        "\n",
        "Is our task a a supervised, unsupervised, semi-supervised, self-supervised, or reinforcement learning task? Is it a classification or regression task? Do we use batch or online learning?\n",
        "\n",
        "What is a performance measure? Give two typical examples of performance measures in regression models. How can these be interpreted in a linear regression?\n"
      ]
    },
    {
      "cell_type": "markdown",
      "metadata": {
        "id": "af45qHPGyHeI"
      },
      "source": [
        "**Machine Learning Pipeline**: A sequence of data processing components is called a data pipeline. Pipelines are very\n",
        "common in machine learning systems, since there is a lot of data to manipulate and\n",
        "many data transformations to apply. \n",
        "\n",
        "For our example: Couple of cleaning steps are needed in order to train the model properly. Such as logarithmic transformation.\n",
        "\n",
        "**Supervised Learning task**\n",
        "\n",
        "**Regression Task**, since we predict numeric values (house prices)\n",
        "\n",
        "**Batch Learning**\n",
        "Is sufficient, since there is no flow of data \n",
        "\n",
        "**Performance Measure** (2 typical ones)\n",
        "Root mean square error \n",
        "Mean absolute Error \n",
        "Both the RMSE and the MAE are ways to measure the distance between two vectors:\n",
        "the vector of predictions and the vector of target values.\n"
      ]
    },
    {
      "cell_type": "markdown",
      "metadata": {
        "id": "EuTVSig2g-xL"
      },
      "source": [
        "##Take a Quick Look at the Data Structure\n",
        "\n",
        "Try to use the functions *head()*, *describe()* and *info()* to get further informations of the dataset. Additional use *value_counts()* to get all possible values of one variable. For all variables, consider whether they are categorical, ordinal, or numeric! Do you notice anything about the variable waterfront when you compare it with the variable renovated?"
      ]
    },
    {
      "cell_type": "code",
      "execution_count": null,
      "metadata": {
        "colab": {
          "base_uri": "https://localhost:8080/"
        },
        "id": "nl2V-_eTSBk7",
        "outputId": "ea133e99-ed89-470e-8a09-407455197033"
      },
      "outputs": [
        {
          "data": {
            "text/plain": [
              "date             price      bedrooms  bathrooms  sqft_living  sqft_lot  floors  waterfront  view  condition  grade  sqft_above  sqft_basement  yr_built  yr_renovated  zipcode  lat      long    \n",
              "20140502T000000  235000.0   2         1.00       1210         9400      1.0     0           0     2          6      1210        0              1949      0             98106    47.5342  -122.360    1\n",
              "20141223T000000  1130000.0  4         3.00       3180         4649      2.0     0           0     4          9      2070        1110           1925      0             98105    47.6583  -122.273    1\n",
              "20141224T000000  255000.0   3         1.50       1110         10296     1.0     0           0     5          7      1110        0              1964      0             98042    47.4220  -122.153    1\n",
              "                                      1.00       1580         8206      1.0     0           0     3          7      1100        480            1962      0             98198    47.3676  -122.312    1\n",
              "                 246700.0   3         2.00       1610         13309     1.0     0           0     4          7      1610        0              1967      0             98042    47.3398  -122.133    1\n",
              "                                                                                                                                                                                                    ..\n",
              "20140818T000000  550000.0   4         2.50       2890         9045      2.0     0           0     3          8      2890        0              2001      0             98019    47.7385  -121.965    1\n",
              "                 539950.0   5         3.00       3100         5250      2.0     0           0     3          7      3100        0              2006      0             98065    47.5369  -121.888    1\n",
              "                 535000.0   3         2.50       2790         19485     2.0     0           0     3          9      2790        0              1990      0             98059    47.4688  -122.124    1\n",
              "                 530000.0   3         2.25       2010         11817     2.0     0           0     4          8      2010        0              1986      0             98029    47.5665  -122.023    1\n",
              "20150527T000000  1310000.0  4         2.25       3750         5000      2.0     0           0     5          8      2440        1310           1924      0             98115    47.6747  -122.303    1\n",
              "Length: 21613, dtype: int64"
            ]
          },
          "execution_count": 2,
          "metadata": {},
          "output_type": "execute_result"
        }
      ],
      "source": [
        "#data.describe()\n",
        "#data.info()\n",
        "data.value_counts()"
      ]
    },
    {
      "cell_type": "markdown",
      "metadata": {
        "id": "fEeIU70K1bsP"
      },
      "source": [
        "Feature Date is listed as an object --> not really categorical attribute since it might be unlimited amount of differen dates of sales"
      ]
    },
    {
      "cell_type": "markdown",
      "metadata": {
        "id": "qblhktP2UyjS"
      },
      "source": [
        "Try to visualize the distributions of all the variables. (Use the *hist()* function from *matplotlib*.) Are some distributions skewed? What is right-skewed or left-skewed? Do the scales of the different variables differ? What do you notice with the variable *yr_renovated*?"
      ]
    },
    {
      "cell_type": "code",
      "execution_count": null,
      "metadata": {
        "colab": {
          "base_uri": "https://localhost:8080/"
        },
        "id": "s-VqnAPZRX7Z",
        "outputId": "97fc5ec4-316d-4059-d2c4-43e6973a00c5"
      },
      "outputs": [
        {
          "data": {
            "text/plain": [
              "<Axes: >"
            ]
          },
          "execution_count": 3,
          "metadata": {},
          "output_type": "execute_result"
        }
      ],
      "source": [
        "data.hist(bins=50, figsize=(18,12))\n",
        "data['yr_renovated'].hist()"
      ]
    },
    {
      "cell_type": "markdown",
      "metadata": {
        "id": "kzBjvr8744-I"
      },
      "source": [
        "Right skewed: eg. Price bedrooms, sqft_living etc\n",
        "\n",
        "Yr_renovated: If year of renovation is either unknown or House has never been renovated the year of renovation is set to 0 otherwise it is set somewhere around year 2000"
      ]
    },
    {
      "cell_type": "markdown",
      "metadata": {
        "id": "Typ7TEEm4vhK"
      },
      "source": [
        "Unrenovated houses have the entry 0. With which variable could we replace the entry 0?\n",
        "\n",
        "Your task is to clean the dataset: \n",
        "\n",
        "1. Divide the variable *yr_renovated* into two variables.\n",
        "2. Create a binary variable that indicates whether the house has been renovated or not. (0 = no renovation, 1 = renovated) You can use the *cut()* function.\n",
        "3. Additionally overwrite the variable *yr_renovated* with the maximum of yr_renovated and yr_built, you can use the max() function.\n",
        "4. Change the *date* column to *datetime* with the function *to_datetime()*."
      ]
    },
    {
      "cell_type": "code",
      "execution_count": null,
      "metadata": {
        "id": "L-uNXqO_xQZ4"
      },
      "outputs": [],
      "source": [
        "# Some Data Cleaning\n",
        "data['date'] = pd.to_datetime(data['date'])\n",
        "\n",
        "#bin the values of the ‘yr_renovated’ column into two intervals: (-1,0] and (0,inf)\n",
        "data['renovated'] = pd.cut(data['yr_renovated'], bins=[-1, 1, 2999], labels=[0, 1])\n",
        "data['renovated'].head()\n",
        "\n",
        "data['yr_renovated'] = data[['yr_built','yr_renovated']].max(axis=1)\n",
        "data.head(20)"
      ]
    },
    {
      "cell_type": "markdown",
      "metadata": {
        "id": "h49GWzJnhZQK"
      },
      "source": [
        "##Create a Test Set\n",
        "\n",
        "Try to explain what a *stratified sampling* is. Try to create a stratified train and test set, which should be named *train_set* and *test_set*. Create an extra column for this, which divides the house prices from the dataset into different categories. At the end, overwrite your dataset with the training dataset with *data = train_set.copy()*."
      ]
    },
    {
      "cell_type": "markdown",
      "metadata": {
        "id": "Zj3knZDG8OUl"
      },
      "source": [
        "**Stratified Sampling**\n",
        "Divide data into homogeneous subgroups called strata. That is used to guarantee that the test set contains a representative of the overall dataset. "
      ]
    },
    {
      "cell_type": "code",
      "execution_count": null,
      "metadata": {
        "id": "JliA_yyunK09"
      },
      "outputs": [],
      "source": [
        "\n",
        "data['price_cat']= pd.cut(np.log(data[\"price\"]), bins=6, labels=range(1,7))\n",
        "\n",
        "\n",
        "#Split Dataset\n",
        "from sklearn.model_selection import train_test_split\n",
        "\n",
        "train_set, test_set = train_test_split(data, test_size=0.2,random_state=42)\n",
        "\n",
        "\n",
        "#train_set = # YOUR TASK\n",
        "#test_set = # YOUR TASK"
      ]
    },
    {
      "cell_type": "code",
      "execution_count": null,
      "metadata": {
        "id": "CsCN8Ew6S2G-"
      },
      "outputs": [],
      "source": [
        "\n",
        "strat_train_set, strat_test_set = train_test_split(data, test_size=0.2, stratify=data[\"price_cat\"], random_state=42)\n",
        "\n",
        "strat_test_set[\"price_cat\"].value_counts() / len(strat_test_set)\n"
      ]
    },
    {
      "cell_type": "code",
      "execution_count": null,
      "metadata": {
        "id": "CuVCysJPrype"
      },
      "outputs": [],
      "source": [
        "data = train_set.copy()\n",
        "data.head(100)\n"
      ]
    },
    {
      "cell_type": "markdown",
      "metadata": {
        "id": "2eivszboqBAD"
      },
      "source": [
        "##Explore and Visualize the Data to Gain Insights\n",
        "\n",
        "First, try to visualize the geographic dates (*lat*, *long*) from our dataset in a scatter plot. Where are the expensive houses located? **More towards the North** For example, you can use a logarithmic color bar to see where it is cheaper and more expensive. Consider how to combine the 'lat' and 'long' features into a simpler feature. (No implementation, but a consideration is sufficient)."
      ]
    },
    {
      "cell_type": "code",
      "execution_count": null,
      "metadata": {
        "id": "w-9DUNsNsTyn"
      },
      "outputs": [],
      "source": [
        "data.plot(kind=\"scatter\", x=\"long\", y=\"lat\", c=data[\"price_cat\"],cmap=\"jet\", colorbar=True,  grid=True, figsize=(14,8), alpha=0.5)\n",
        "plt.show()"
      ]
    },
    {
      "cell_type": "markdown",
      "metadata": {
        "id": "OERkW3jzqA5A"
      },
      "source": [
        "### Correlations\n",
        "\n",
        "Since the dataset does not have so many features, it is quite easy to calculate the correlations of these. Please calculate all meaningful standard correlation effects with the function *corr()*. How can the values of this correlation effect be interpreted? What are probably the best variables to predict? For which variables does the Pearson coefficient make sense and for which not?"
      ]
    },
    {
      "cell_type": "code",
      "execution_count": null,
      "metadata": {
        "id": "jLRDbB7B1gVQ"
      },
      "outputs": [],
      "source": [
        "# YOUR TASK\n",
        "corr_matrix = data.corr()\n",
        "corr_matrix['price'].sort_values(ascending=False)"
      ]
    },
    {
      "cell_type": "markdown",
      "metadata": {
        "id": "61Y0SDte6Erc"
      },
      "source": [
        "Additionally, create a scatter plot for the most important features using the Pandas scatter_matrix() function. What do you notice about the variables sqft_living, sqft_above and sqft_basement? "
      ]
    },
    {
      "cell_type": "markdown",
      "metadata": {
        "id": "Rdre2b8fXEdV"
      },
      "source": []
    },
    {
      "cell_type": "code",
      "execution_count": null,
      "metadata": {
        "id": "qMD0qNMK2Jow"
      },
      "outputs": [],
      "source": [
        "#YOUR TASK\n",
        "from pandas.plotting import scatter_matrix\n",
        "\n",
        "attributes= ['price','sqft_living', 'sqft_above', 'sqft_basement', 'grade', 'bathrooms'] \n",
        "scatter_matrix(data[attributes],figsize=(12,8))\n",
        "plt.show()"
      ]
    },
    {
      "cell_type": "markdown",
      "metadata": {
        "id": "RYPn6pNU75Db"
      },
      "source": [
        "## Experiment with Attribute Combinations\n",
        "\n",
        "Try to combine the columns bedrooms, sqft_living by calculating the bedroom density, i.e. *bedrooms/sqft_living*. Check the new Pearson Correlation coefficients.\n"
      ]
    },
    {
      "cell_type": "code",
      "execution_count": null,
      "metadata": {
        "id": "q9lOfs228qjq"
      },
      "outputs": [],
      "source": [
        "#YOUR TASK\n",
        "data['bedroom_density']= data['bedrooms']/data['sqft_living']\n",
        "corr_matrix1 = data.corr()\n",
        "corr_matrix1['price'].sort_values(ascending=False)\n",
        "### --> Negative Correlation for Bedroom density: If price goes up bedroom density is getting smaller --> myb due to bigger houses ?!"
      ]
    },
    {
      "cell_type": "markdown",
      "metadata": {
        "id": "6S-L1RdgDDD0"
      },
      "source": [
        "##Prepare the Data for Machine Learning Algorithms"
      ]
    },
    {
      "cell_type": "markdown",
      "metadata": {
        "id": "xuzM0jyGFjEs"
      },
      "source": [
        "In the first step, we separate our trainings dataset with our labeled dataset."
      ]
    },
    {
      "cell_type": "code",
      "execution_count": null,
      "metadata": {
        "id": "C0EgPFu0D7Au"
      },
      "outputs": [],
      "source": [
        "data = train_set.drop(\"price\", axis=1)\n",
        "data_label = train_set[[\"price\"]].copy()\n",
        "data_label.head()"
      ]
    },
    {
      "cell_type": "markdown",
      "metadata": {
        "id": "lIA5iN1pFgz7"
      },
      "source": [
        "###Missing Data\n",
        "\n",
        "What options do we have to deal with missing values? Write a code that give all lines, which have any missing value. What is the function *SimpleImputer(strategy=\"median\")* doing?"
      ]
    },
    {
      "cell_type": "code",
      "execution_count": null,
      "metadata": {
        "id": "B2GJs8Sp5kfB"
      },
      "outputs": [],
      "source": [
        "#YOUR TASK: Write a code that give all lines, which have any missing value. \n",
        "null_data = data[data.isnull().any(axis=1)]\n",
        "null_data"
      ]
    },
    {
      "cell_type": "markdown",
      "metadata": {
        "id": "nljv5881dkq4"
      },
      "source": [
        "### Answer: Options to clean empty data\n",
        "1. Get rid of the corresponding districts.\n",
        "2. Get rid of the whole attribute.\n",
        "3. Set the missing values to some value (zero, the mean, the median, etc.). This is\n",
        "called imputation.\n",
        "\n",
        "\n",
        "### Answer: SimpleImputer\n",
        "Replace missing values with the median value"
      ]
    },
    {
      "cell_type": "markdown",
      "metadata": {
        "id": "ESJiMKe5PWlE"
      },
      "source": [
        "###Handling Text and Categorical Attributes\n"
      ]
    },
    {
      "cell_type": "markdown",
      "metadata": {
        "id": "mbFMmQmEeU6P"
      },
      "source": [
        "What are ordinal and categorical data?\n",
        "\n",
        "**Ordinal data represents ordered categorical data (e.g. \"slow\", \"medium\", \"fast\")**\n",
        "\n",
        "Do we have such data in our data set?\n",
        " **Waterfron is categorical; price_cat or grade is ordinal** \n",
        " \n",
        "What possibilities do we have to transform this data correctly? \n",
        "**OneHotEncoder to convert categorical values into one hot-vectors --> only one attribute will be equal to 1. Therefore ML won't assume that two nearby categorical attributes are more similar to each other than distant attributes**\\\n",
        "What are dummy attributes?\\\n",
        "**The output attributes of the OneHotEncoder are called dummy attributes, since they are only another way of representing the categorical attributes**\n",
        "\n",
        "Try to understand what the function *OneHotEncoder()* does with the variable waterfront.\\\n",
        "transforms categorical attributes to numerical values and stores the information in an array (One-hot numeric array - each element is either 0 or 1) \n",
        "\n",
        "  --> e.g. categorical column with \"slow, medium, fast\". The array might look like (0,0,1). This way we present categorical data as numeric and are able to use it for ML?**"
      ]
    },
    {
      "cell_type": "code",
      "execution_count": null,
      "metadata": {
        "id": "7gHbxQ1mPVjt"
      },
      "outputs": [],
      "source": [
        "from sklearn.preprocessing import OneHotEncoder\n",
        "cat_encoder = OneHotEncoder()\n",
        "\n",
        "waterfront_encoded = cat_encoder.fit_transform(data)\n",
        "data.info()"
      ]
    },
    {
      "cell_type": "markdown",
      "metadata": {
        "id": "ptt3_Jt6jP0Q"
      },
      "source": [
        "##Feature Scaling and Transformation"
      ]
    },
    {
      "cell_type": "markdown",
      "metadata": {
        "id": "TspxADyqwjHX"
      },
      "source": [
        "What is min-max scaling and standardization of features? What is a heavy tail in a distribution? What problem do we have with min-max scaling and standardization on a heavy-tailed distribution? Can you make an example?"
      ]
    },
    {
      "cell_type": "markdown",
      "metadata": {
        "id": "q14R8PFxiO5_"
      },
      "source": [
        "#### Answer MinMax Scaling\n",
        "Min-max scaling (many people call this normalization) is the simplest: for each\n",
        "attribute, the values are shifted and rescaled so that they end up ranging from\n",
        "0 to 1.\n",
        "\n",
        "####Answer Standardization\n",
        "Standardization is different: first it subtracts the mean value (so standardized values\n",
        "have a zero mean), then it divides the result by the standard deviation (so standard‐\n",
        "ized values have a standard deviation equal to 1). Unlike min-max scaling, standardi‐\n",
        "zation does not restrict values to a specific range\n",
        "\n",
        "####Answer What is a heavy tail in a distribution\n",
        "when values far from the mean are not exponentially rare. Heavily right skewed Data\n",
        "\n",
        "#### Problem with both \n",
        "Min-max scaling and standardization will squash\n",
        "most values into a small range. "
      ]
    },
    {
      "cell_type": "code",
      "execution_count": null,
      "metadata": {
        "id": "GSYlUIdXhe37"
      },
      "outputs": [],
      "source": [
        "data.columns"
      ]
    },
    {
      "cell_type": "markdown",
      "metadata": {
        "id": "DTE43CjSNCxZ"
      },
      "source": [
        "Try to brainstorm which variable conversion makes sense for which variable! Write down your guess! Try to understand the following two code blocks, how are the variables *long* and *lat* converted?\n",
        "\n",
        "\n",
        "**Code Explanation**\n",
        "10 Clusters are formed with the KMeans Clustering algorithm. Clusters are generated, based on the price tag. The cluster similarity is higher the closer a house is towards its respective closest cluster center(centroid)"
      ]
    },
    {
      "cell_type": "code",
      "execution_count": null,
      "metadata": {
        "id": "FYSwa_7bF_do"
      },
      "outputs": [],
      "source": [
        "from sklearn.cluster import KMeans\n",
        "from sklearn.metrics.pairwise import rbf_kernel\n",
        "from sklearn.base import BaseEstimator, TransformerMixin\n",
        "\n",
        "class ClusterSimilarity(BaseEstimator, TransformerMixin):\n",
        "    def __init__(self, n_clusters=10, gamma=1.0, random_state=None):\n",
        "        self.n_clusters = n_clusters\n",
        "        self.gamma = gamma\n",
        "        self.random_state = random_state\n",
        "\n",
        "    def fit(self, X, y=None, sample_weight=None):\n",
        "        self.kmeans_ = KMeans(self.n_clusters, random_state=self.random_state)\n",
        "        self.kmeans_.fit(X, sample_weight=sample_weight)\n",
        "        return self\n",
        "\n",
        "    def transform(self, X):\n",
        "        return rbf_kernel(X, self.kmeans_.cluster_centers_, gamma=self.gamma)\n",
        "    \n",
        "    def get_feature_names_out(self, names=None):\n",
        "        return [f\"Cluster {i} similarity\" for i in range(self.n_clusters)]\n"
      ]
    },
    {
      "cell_type": "code",
      "execution_count": null,
      "metadata": {
        "colab": {
          "background_save": true
        },
        "id": "XTPORXazcxvt",
        "outputId": "b15b20be-8ac8-43cb-9f58-638e058f33e4"
      },
      "outputs": [
        {
          "name": "stderr",
          "output_type": "stream",
          "text": [
            "/usr/local/lib/python3.9/dist-packages/sklearn/cluster/_kmeans.py:870: FutureWarning: The default value of `n_init` will change from 10 to 'auto' in 1.4. Set the value of `n_init` explicitly to suppress the warning\n",
            "  warnings.warn(\n"
          ]
        },
        {
          "data": {
            "image/png": "[encoded data removed]",
            "text/plain": [
              "<Figure size 720x504 with 2 Axes>"
            ]
          },
          "metadata": {},
          "output_type": "display_data"
        }
      ],
      "source": [
        "cluster_simil = ClusterSimilarity(n_clusters=15, gamma=100., random_state=42)\n",
        "similarities = cluster_simil.fit_transform(data[[\"lat\", \"long\"]],\n",
        "                                           sample_weight=data_label[\"price\"])\n",
        "\n",
        "data_renamed = data.rename(columns={\n",
        "    \"lat\": \"Latitude\", \"long\": \"Longitude\"})\n",
        "\n",
        "data_renamed[\"Max cluster similarity\"] = similarities.max(axis=1)\n",
        "\n",
        "data_renamed.plot(kind=\"scatter\", x=\"Longitude\", y=\"Latitude\", grid=True,\n",
        "                     c=\"Max cluster similarity\",\n",
        "                     cmap=\"jet\", colorbar=True,\n",
        "                     legend=True, sharex=False, figsize=(10, 7))\n",
        "plt.plot(cluster_simil.kmeans_.cluster_centers_[:, 1],\n",
        "         cluster_simil.kmeans_.cluster_centers_[:, 0],\n",
        "         linestyle=\"\", color=\"black\", marker=\"X\", markersize=20,\n",
        "         label=\"Cluster centers\")\n",
        "plt.legend(loc=\"upper right\")\n",
        "\n",
        "plt.show()"
      ]
    },
    {
      "cell_type": "markdown",
      "metadata": {
        "id": "H2Dtf-l_PX3i"
      },
      "source": [
        "Have a look at my suggestion of variable conversion. I ask you to understand the code in detail, what variable transformations have I made? What arguments are in favor, and what arguments might be against? How would you convert the variables if you compare it with your guess?\n",
        "\n",
        "####Answer \n",
        "- Log Pipeline --> \"sqft_living\", \"sqft_lot\", \"sqft_above\" are logarithmic transformed as well as standardized\n",
        "\n",
        "- Geo --> [\"lat\", \"long\"] are clustered into 15 clusters\n",
        "\n",
        "- cat Pipeline --> [\"waterfront\", \"renovated\"] oneHotEncoder\n",
        "\n",
        "- .."
      ]
    },
    {
      "cell_type": "code",
      "execution_count": null,
      "metadata": {
        "colab": {
          "background_save": true
        },
        "id": "_bad6uecbinL"
      },
      "outputs": [],
      "source": [
        "from sklearn.compose import ColumnTransformer\n",
        "from sklearn.pipeline import make_pipeline\n",
        "from sklearn.preprocessing import FunctionTransformer\n",
        "from sklearn.preprocessing import StandardScaler\n",
        "import numpy as np\n",
        "from sklearn.preprocessing import OneHotEncoder\n",
        "\n",
        "def time(X):\n",
        " a =  pd.to_datetime(\"now\") - X[X.columns[0]]\n",
        " a = a.dt.total_seconds()\n",
        " return a.to_frame()\n",
        "\n",
        "date_pipeline = make_pipeline(\n",
        " FunctionTransformer(time),\n",
        " StandardScaler())\n",
        "\n",
        "#Create the clusters, in this case on Lat and Long \n",
        "cluster_simil = ClusterSimilarity(n_clusters=15, gamma=100., random_state=42)\n",
        "\n",
        "#Standardises numerical columns\n",
        "default_num_pipeline = make_pipeline(StandardScaler())\n",
        "\n",
        "#applies logarithmic transformations with np.log and then standardises it afterwards\n",
        "log_pipeline = make_pipeline(\n",
        " FunctionTransformer(np.log),\n",
        " StandardScaler())\n",
        "\n",
        "#Applys logartmic transformation to the price columns\n",
        "label_pipeline = make_pipeline(\n",
        " FunctionTransformer(np.log)) \n",
        "\n",
        "#Transform categorical attributes into numerical ones \n",
        "cat_pipeline = make_pipeline(OneHotEncoder(handle_unknown=\"ignore\"))\n",
        "\n",
        "#Application of the abovementioned pipelines for the respective attributes\n",
        "preprocessing = ColumnTransformer([\n",
        " (\"log\", log_pipeline, [\"sqft_living\", \"sqft_lot\", \"sqft_above\"]),\n",
        " (\"geo\", cluster_simil, [\"lat\", \"long\"]),\n",
        " (\"cat\", cat_pipeline, [\"waterfront\", \"renovated\"]),\n",
        " (\"date\", date_pipeline, [\"date\"]),\n",
        " (\"normal\", default_num_pipeline, [\"yr_built\", \"yr_renovated\", \"bedrooms\", \"bathrooms\", \"floors\", \"view\", \"condition\", \"grade\"])\n",
        " ])\n",
        "\n",
        "preprocessing_label = ColumnTransformer([\n",
        " (\"log\", label_pipeline, [\"price\"])\n",
        " ])"
      ]
    },
    {
      "cell_type": "markdown",
      "metadata": {
        "id": "E7JSLLA6Brnm"
      },
      "source": [
        "How many features do we have for predicition?"
      ]
    },
    {
      "cell_type": "markdown",
      "metadata": {
        "id": "cRwge5VbnMtA"
      },
      "source": [
        "31 Features\n"
      ]
    },
    {
      "cell_type": "code",
      "execution_count": null,
      "metadata": {
        "colab": {
          "background_save": true
        },
        "id": "t3K8Lj0_jBGP",
        "outputId": "b422b04e-b483-4eb2-db11-051f8f53b3b1"
      },
      "outputs": [
        {
          "name": "stderr",
          "output_type": "stream",
          "text": [
            "/usr/local/lib/python3.9/dist-packages/sklearn/cluster/_kmeans.py:870: FutureWarning: The default value of `n_init` will change from 10 to 'auto' in 1.4. Set the value of `n_init` explicitly to suppress the warning\n",
            "  warnings.warn(\n",
            "/usr/local/lib/python3.9/dist-packages/pandas/core/arrays/datetimes.py:2224: FutureWarning: The parsing of 'now' in pd.to_datetime without `utc=True` is deprecated. In a future version, this will match Timestamp('now') and Timestamp.now()\n",
            "  result, tz_parsed = tslib.array_to_datetime(\n"
          ]
        },
        {
          "data": {
            "text/plain": [
              "(17290, 31)"
            ]
          },
          "execution_count": 19,
          "metadata": {},
          "output_type": "execute_result"
        }
      ],
      "source": [
        "data_prepared = preprocessing.fit_transform(data)\n",
        "data_prepared.shape"
      ]
    },
    {
      "cell_type": "markdown",
      "metadata": {
        "id": "pI2GEpNO4lVo"
      },
      "source": [
        "##Select and Train a Model\n",
        "\n",
        "###Linear Model"
      ]
    },
    {
      "cell_type": "markdown",
      "metadata": {
        "id": "6v8HqloIQ1CK"
      },
      "source": [
        "The following code determines a linear regression model, again try to explain what the code computes!\n",
        "\n",
        "####Answer\n",
        "Transofrmation pipeline preprocesses the data and afterwards we apply the linear Regression model. "
      ]
    },
    {
      "cell_type": "code",
      "execution_count": null,
      "metadata": {
        "colab": {
          "background_save": true
        },
        "id": "HBhwDtu0KAZs",
        "outputId": "0c06ee8d-b608-4d39-915f-ee6d20144135"
      },
      "outputs": [
        {
          "name": "stderr",
          "output_type": "stream",
          "text": [
            "/usr/local/lib/python3.9/dist-packages/sklearn/cluster/_kmeans.py:870: FutureWarning: The default value of `n_init` will change from 10 to 'auto' in 1.4. Set the value of `n_init` explicitly to suppress the warning\n",
            "  warnings.warn(\n"
          ]
        },
        {
          "name": "stdout",
          "output_type": "stream",
          "text": [
            "data_label_Transformed [[12.69158046]\n",
            " [12.45683136]\n",
            " [12.33929149]\n",
            " ...\n",
            " [13.26212532]\n",
            " [12.40901349]\n",
            " [12.66032792]]\n",
            "Test [[12.77422697]\n",
            " [12.623683  ]\n",
            " [12.22679277]\n",
            " ...\n",
            " [12.98453844]\n",
            " [11.59625407]\n",
            " [12.82388948]]\n"
          ]
        },
        {
          "name": "stderr",
          "output_type": "stream",
          "text": [
            "/usr/local/lib/python3.9/dist-packages/pandas/core/arrays/datetimes.py:2224: FutureWarning: The parsing of 'now' in pd.to_datetime without `utc=True` is deprecated. In a future version, this will match Timestamp('now') and Timestamp.now()\n",
            "  result, tz_parsed = tslib.array_to_datetime(\n",
            "/usr/local/lib/python3.9/dist-packages/pandas/core/arrays/datetimes.py:2224: FutureWarning: The parsing of 'now' in pd.to_datetime without `utc=True` is deprecated. In a future version, this will match Timestamp('now') and Timestamp.now()\n",
            "  result, tz_parsed = tslib.array_to_datetime(\n"
          ]
        }
      ],
      "source": [
        "from sklearn.linear_model import LinearRegression\n",
        "\n",
        "#Datalabel contains attribute \"price\"\n",
        "data_label_transformed = preprocessing_label.fit_transform(data_label)\n",
        "lin_reg = make_pipeline(preprocessing, LinearRegression())\n",
        "lin_reg.fit(data, data_label_transformed)\n",
        "\n",
        "print(\"data_label_Transformed\", data_label_transformed)\n",
        "data_predictions = lin_reg.predict(data)\n",
        "print(\"Test\",data_predictions)"
      ]
    },
    {
      "cell_type": "markdown",
      "metadata": {
        "id": "bYwiFxh4Qdbb"
      },
      "source": [
        "Your task is to determine the median of the absolute error [Median(ABS(a-b))] (In addition, you can also get the percentage error by dividing by the actual sales value before taking the median.) and the Root Mean Square Error (RMSE)! Remember that estimates are logarithmic. Also calculate the median of all home prices. And try to evaluate all error values. How good is the model?"
      ]
    },
    {
      "cell_type": "code",
      "execution_count": null,
      "metadata": {
        "colab": {
          "background_save": true
        },
        "id": "fyh-FjP63k4L",
        "outputId": "ac54b7b0-18f5-486e-c149-0a654680926e"
      },
      "outputs": [
        {
          "data": {
            "text/plain": [
              "array([[12.77422697],\n",
              "       [12.623683  ],\n",
              "       [12.22679277],\n",
              "       ...,\n",
              "       [12.98453844],\n",
              "       [11.59625407],\n",
              "       [12.82388948]])"
            ]
          },
          "execution_count": 21,
          "metadata": {},
          "output_type": "execute_result"
        }
      ],
      "source": [
        "#TEST\n",
        "data_predictions\n",
        "#data.info()\n",
        "\n",
        "#data_label.describe()"
      ]
    },
    {
      "cell_type": "code",
      "execution_count": null,
      "metadata": {
        "colab": {
          "background_save": true
        },
        "id": "ZmyXry00eWOS",
        "outputId": "d4777a63-a4cc-406e-9a85-2057a3fe05c5"
      },
      "outputs": [
        {
          "data": {
            "text/plain": [
              "array([[12.69158046],\n",
              "       [12.45683136],\n",
              "       [12.33929149],\n",
              "       ...,\n",
              "       [13.26212532],\n",
              "       [12.40901349],\n",
              "       [12.66032792]])"
            ]
          },
          "execution_count": 22,
          "metadata": {},
          "output_type": "execute_result"
        }
      ],
      "source": [
        "data_label_transformed"
      ]
    },
    {
      "cell_type": "code",
      "execution_count": null,
      "metadata": {
        "colab": {
          "background_save": true
        },
        "id": "MSBRjOje8_h8",
        "outputId": "b8e2bf2e-45c0-4abb-b6d0-8e2568fccee6"
      },
      "outputs": [
        {
          "name": "stdout",
          "output_type": "stream",
          "text": [
            "Median Prediction 456803.49875922647\n",
            "Median Actual 450000.00000000035\n",
            "Median Absolute Error 50351.342354758584\n",
            "Mean Squared Error 144777.34862056334\n",
            "R Squared 0.839565992538339\n"
          ]
        }
      ],
      "source": [
        "# Your task\n",
        "from sklearn.metrics import mean_squared_error\n",
        "from sklearn.metrics import median_absolute_error\n",
        "from sklearn.metrics import r2_score\n",
        "\n",
        "print(\"Median Prediction\", np.median(np.exp(data_predictions)))\n",
        "print(\"Median Actual\", np.median(np.exp(data_label_transformed)))\n",
        "print(\"Median Absolute Error\" , median_absolute_error(np.exp(data_label_transformed), np.exp(data_predictions)))\n",
        "print(\"Mean Squared Error\", mean_squared_error(np.exp(data_label_transformed), np.exp(data_predictions), squared=False))\n",
        "print(\"R Squared\", r2_score(np.exp(data_label_transformed), np.exp(data_predictions)))\n"
      ]
    },
    {
      "cell_type": "markdown",
      "metadata": {
        "id": "CN0GTO84KCuJ"
      },
      "source": [
        "####Evaluation\n",
        "- Median: Predicted and actual are very similar to each other. \n",
        "\n",
        "- Median Absolute Error of ~50351. Which means on avg our prediction are off by ~50k$. \n",
        "\n",
        "- The mean Square Error is even higher. But difficult to interpret it uses different units than our dataset. \n",
        "\n",
        "- Therefore R Squared gives us ~0.84 which is relatively high, which means our model actually isn't too bad."
      ]
    },
    {
      "cell_type": "markdown",
      "metadata": {
        "id": "oaHv3Jm4_mjq"
      },
      "source": [
        "###Random Forest Regressor"
      ]
    },
    {
      "cell_type": "markdown",
      "metadata": {
        "id": "-5uVLymyLDyh"
      },
      "source": [
        "We will now also compute a Radom Forrest model, automatically determining a cross validation with n = 10 on the training dataset. What happens during the cross validation? Why have I adjusted the R squared error with a separate function? What is the function *np.ravel* doing?\n",
        "\n",
        "##### Cross Validation\n",
        "- Cross-validation is a statistical method used to estimate the performance (or accuracy) of machine learning models. It is used to protect against overfitting in a predictive model, particularly in a case where the amount of data may be limited. \n",
        "\n",
        "##### adjusted R Squared ??\n",
        "- The adjusted R-squared value increases when a new term improves the model more than would be expected by chance. It decreases when a predictor improves the model by less than expected. The adjusted R-squared value is more appropriate when evaluating model fit and in comparing alternative models in the feature selection stage of model building12\n",
        "- The **negative value** is used because the cross_val_score function in the previous code expects a scoring function that maximizes the score. Since we want to minimize the mean squared error, we return the negative of the adjusted \n",
        "R-squared value, which will be minimized by the cross_val_score function."
      ]
    },
    {
      "cell_type": "code",
      "execution_count": null,
      "metadata": {
        "colab": {
          "background_save": true
        },
        "id": "n3CE6FgPMkvD",
        "outputId": "5bd5e5bc-a7fd-4b62-e08d-e6250358fea5"
      },
      "outputs": [
        {
          "name": "stderr",
          "output_type": "stream",
          "text": [
            "/usr/local/lib/python3.9/dist-packages/sklearn/cluster/_kmeans.py:870: FutureWarning: The default value of `n_init` will change from 10 to 'auto' in 1.4. Set the value of `n_init` explicitly to suppress the warning\n",
            "  warnings.warn(\n",
            "/usr/local/lib/python3.9/dist-packages/pandas/core/arrays/datetimes.py:2224: FutureWarning: The parsing of 'now' in pd.to_datetime without `utc=True` is deprecated. In a future version, this will match Timestamp('now') and Timestamp.now()\n",
            "  result, tz_parsed = tslib.array_to_datetime(\n",
            "/usr/local/lib/python3.9/dist-packages/sklearn/cluster/_kmeans.py:870: FutureWarning: The default value of `n_init` will change from 10 to 'auto' in 1.4. Set the value of `n_init` explicitly to suppress the warning\n",
            "  warnings.warn(\n",
            "/usr/local/lib/python3.9/dist-packages/pandas/core/arrays/datetimes.py:2224: FutureWarning: The parsing of 'now' in pd.to_datetime without `utc=True` is deprecated. In a future version, this will match Timestamp('now') and Timestamp.now()\n",
            "  result, tz_parsed = tslib.array_to_datetime(\n",
            "/usr/local/lib/python3.9/dist-packages/pandas/core/arrays/datetimes.py:2224: FutureWarning: The parsing of 'now' in pd.to_datetime without `utc=True` is deprecated. In a future version, this will match Timestamp('now') and Timestamp.now()\n",
            "  result, tz_parsed = tslib.array_to_datetime(\n",
            "/usr/local/lib/python3.9/dist-packages/sklearn/cluster/_kmeans.py:870: FutureWarning: The default value of `n_init` will change from 10 to 'auto' in 1.4. Set the value of `n_init` explicitly to suppress the warning\n",
            "  warnings.warn(\n",
            "/usr/local/lib/python3.9/dist-packages/pandas/core/arrays/datetimes.py:2224: FutureWarning: The parsing of 'now' in pd.to_datetime without `utc=True` is deprecated. In a future version, this will match Timestamp('now') and Timestamp.now()\n",
            "  result, tz_parsed = tslib.array_to_datetime(\n",
            "/usr/local/lib/python3.9/dist-packages/pandas/core/arrays/datetimes.py:2224: FutureWarning: The parsing of 'now' in pd.to_datetime without `utc=True` is deprecated. In a future version, this will match Timestamp('now') and Timestamp.now()\n",
            "  result, tz_parsed = tslib.array_to_datetime(\n",
            "/usr/local/lib/python3.9/dist-packages/sklearn/cluster/_kmeans.py:870: FutureWarning: The default value of `n_init` will change from 10 to 'auto' in 1.4. Set the value of `n_init` explicitly to suppress the warning\n",
            "  warnings.warn(\n",
            "/usr/local/lib/python3.9/dist-packages/pandas/core/arrays/datetimes.py:2224: FutureWarning: The parsing of 'now' in pd.to_datetime without `utc=True` is deprecated. In a future version, this will match Timestamp('now') and Timestamp.now()\n",
            "  result, tz_parsed = tslib.array_to_datetime(\n",
            "/usr/local/lib/python3.9/dist-packages/pandas/core/arrays/datetimes.py:2224: FutureWarning: The parsing of 'now' in pd.to_datetime without `utc=True` is deprecated. In a future version, this will match Timestamp('now') and Timestamp.now()\n",
            "  result, tz_parsed = tslib.array_to_datetime(\n",
            "/usr/local/lib/python3.9/dist-packages/sklearn/cluster/_kmeans.py:870: FutureWarning: The default value of `n_init` will change from 10 to 'auto' in 1.4. Set the value of `n_init` explicitly to suppress the warning\n",
            "  warnings.warn(\n",
            "/usr/local/lib/python3.9/dist-packages/pandas/core/arrays/datetimes.py:2224: FutureWarning: The parsing of 'now' in pd.to_datetime without `utc=True` is deprecated. In a future version, this will match Timestamp('now') and Timestamp.now()\n",
            "  result, tz_parsed = tslib.array_to_datetime(\n",
            "/usr/local/lib/python3.9/dist-packages/pandas/core/arrays/datetimes.py:2224: FutureWarning: The parsing of 'now' in pd.to_datetime without `utc=True` is deprecated. In a future version, this will match Timestamp('now') and Timestamp.now()\n",
            "  result, tz_parsed = tslib.array_to_datetime(\n",
            "/usr/local/lib/python3.9/dist-packages/sklearn/cluster/_kmeans.py:870: FutureWarning: The default value of `n_init` will change from 10 to 'auto' in 1.4. Set the value of `n_init` explicitly to suppress the warning\n",
            "  warnings.warn(\n",
            "/usr/local/lib/python3.9/dist-packages/pandas/core/arrays/datetimes.py:2224: FutureWarning: The parsing of 'now' in pd.to_datetime without `utc=True` is deprecated. In a future version, this will match Timestamp('now') and Timestamp.now()\n",
            "  result, tz_parsed = tslib.array_to_datetime(\n",
            "/usr/local/lib/python3.9/dist-packages/pandas/core/arrays/datetimes.py:2224: FutureWarning: The parsing of 'now' in pd.to_datetime without `utc=True` is deprecated. In a future version, this will match Timestamp('now') and Timestamp.now()\n",
            "  result, tz_parsed = tslib.array_to_datetime(\n",
            "/usr/local/lib/python3.9/dist-packages/sklearn/cluster/_kmeans.py:870: FutureWarning: The default value of `n_init` will change from 10 to 'auto' in 1.4. Set the value of `n_init` explicitly to suppress the warning\n",
            "  warnings.warn(\n",
            "/usr/local/lib/python3.9/dist-packages/pandas/core/arrays/datetimes.py:2224: FutureWarning: The parsing of 'now' in pd.to_datetime without `utc=True` is deprecated. In a future version, this will match Timestamp('now') and Timestamp.now()\n",
            "  result, tz_parsed = tslib.array_to_datetime(\n",
            "/usr/local/lib/python3.9/dist-packages/pandas/core/arrays/datetimes.py:2224: FutureWarning: The parsing of 'now' in pd.to_datetime without `utc=True` is deprecated. In a future version, this will match Timestamp('now') and Timestamp.now()\n",
            "  result, tz_parsed = tslib.array_to_datetime(\n",
            "/usr/local/lib/python3.9/dist-packages/sklearn/cluster/_kmeans.py:870: FutureWarning: The default value of `n_init` will change from 10 to 'auto' in 1.4. Set the value of `n_init` explicitly to suppress the warning\n",
            "  warnings.warn(\n",
            "/usr/local/lib/python3.9/dist-packages/pandas/core/arrays/datetimes.py:2224: FutureWarning: The parsing of 'now' in pd.to_datetime without `utc=True` is deprecated. In a future version, this will match Timestamp('now') and Timestamp.now()\n",
            "  result, tz_parsed = tslib.array_to_datetime(\n",
            "/usr/local/lib/python3.9/dist-packages/pandas/core/arrays/datetimes.py:2224: FutureWarning: The parsing of 'now' in pd.to_datetime without `utc=True` is deprecated. In a future version, this will match Timestamp('now') and Timestamp.now()\n",
            "  result, tz_parsed = tslib.array_to_datetime(\n",
            "/usr/local/lib/python3.9/dist-packages/sklearn/cluster/_kmeans.py:870: FutureWarning: The default value of `n_init` will change from 10 to 'auto' in 1.4. Set the value of `n_init` explicitly to suppress the warning\n",
            "  warnings.warn(\n",
            "/usr/local/lib/python3.9/dist-packages/pandas/core/arrays/datetimes.py:2224: FutureWarning: The parsing of 'now' in pd.to_datetime without `utc=True` is deprecated. In a future version, this will match Timestamp('now') and Timestamp.now()\n",
            "  result, tz_parsed = tslib.array_to_datetime(\n",
            "/usr/local/lib/python3.9/dist-packages/pandas/core/arrays/datetimes.py:2224: FutureWarning: The parsing of 'now' in pd.to_datetime without `utc=True` is deprecated. In a future version, this will match Timestamp('now') and Timestamp.now()\n",
            "  result, tz_parsed = tslib.array_to_datetime(\n",
            "/usr/local/lib/python3.9/dist-packages/sklearn/cluster/_kmeans.py:870: FutureWarning: The default value of `n_init` will change from 10 to 'auto' in 1.4. Set the value of `n_init` explicitly to suppress the warning\n",
            "  warnings.warn(\n",
            "/usr/local/lib/python3.9/dist-packages/pandas/core/arrays/datetimes.py:2224: FutureWarning: The parsing of 'now' in pd.to_datetime without `utc=True` is deprecated. In a future version, this will match Timestamp('now') and Timestamp.now()\n",
            "  result, tz_parsed = tslib.array_to_datetime(\n",
            "/usr/local/lib/python3.9/dist-packages/pandas/core/arrays/datetimes.py:2224: FutureWarning: The parsing of 'now' in pd.to_datetime without `utc=True` is deprecated. In a future version, this will match Timestamp('now') and Timestamp.now()\n",
            "  result, tz_parsed = tslib.array_to_datetime(\n",
            "/usr/local/lib/python3.9/dist-packages/sklearn/cluster/_kmeans.py:870: FutureWarning: The default value of `n_init` will change from 10 to 'auto' in 1.4. Set the value of `n_init` explicitly to suppress the warning\n",
            "  warnings.warn(\n",
            "/usr/local/lib/python3.9/dist-packages/pandas/core/arrays/datetimes.py:2224: FutureWarning: The parsing of 'now' in pd.to_datetime without `utc=True` is deprecated. In a future version, this will match Timestamp('now') and Timestamp.now()\n",
            "  result, tz_parsed = tslib.array_to_datetime(\n",
            "/usr/local/lib/python3.9/dist-packages/pandas/core/arrays/datetimes.py:2224: FutureWarning: The parsing of 'now' in pd.to_datetime without `utc=True` is deprecated. In a future version, this will match Timestamp('now') and Timestamp.now()\n",
            "  result, tz_parsed = tslib.array_to_datetime(\n"
          ]
        }
      ],
      "source": [
        "from sklearn.model_selection import cross_val_score\n",
        "from sklearn.ensemble import RandomForestRegressor\n",
        "from sklearn.metrics import make_scorer\n",
        "\n",
        "data_label_transformed = preprocessing_label.fit_transform(data_label)\n",
        "\n",
        "forest_reg = make_pipeline(preprocessing, RandomForestRegressor(random_state=42))\n",
        "#np.ravel to flatten the array e.g. [0,1,2][3,4,5] --> [0,1,2,3,4,5]\n",
        "forest_reg.fit(data, np.ravel(data_label_transformed))\n",
        "\n",
        "def adjusted_rsquare(y_true, y_pred, **kwargs):\n",
        "  return -np.sqrt(np.mean((np.exp(y_true)-np.exp(y_pred))**2))\n",
        "\n",
        "neg_exp_root_mean_squared_error = make_scorer(adjusted_rsquare, greater_is_better=False)\n",
        "\n",
        "#Cross Validation splits data into X folds\n",
        "forest_rmses = -cross_val_score(forest_reg, data, np.ravel(data_label_transformed),\n",
        " scoring=neg_exp_root_mean_squared_error, cv=10)\n",
        "\n"
      ]
    },
    {
      "cell_type": "markdown",
      "metadata": {
        "id": "lviW5tuKiC2d"
      },
      "source": [
        "The following code outputs the RMSE for all 10 folds, compare it to the linear regression."
      ]
    },
    {
      "cell_type": "code",
      "execution_count": null,
      "metadata": {
        "colab": {
          "background_save": true
        },
        "id": "5glFSw4ZEdx0",
        "outputId": "1175ff1d-3594-4880-87bc-24b5ed3990de"
      },
      "outputs": [
        {
          "data": {
            "text/plain": [
              "count    10.0\n",
              "mean      0.0\n",
              "std       0.0\n",
              "min       0.0\n",
              "25%       0.0\n",
              "50%       0.0\n",
              "75%       0.0\n",
              "max       0.0\n",
              "dtype: float64"
            ]
          },
          "execution_count": 25,
          "metadata": {},
          "output_type": "execute_result"
        }
      ],
      "source": [
        "pd.Series(np.exp(forest_rmses)).describe()\n",
        "#Linear Regression\n",
        "#pd.Series(lin_rmse).describe()"
      ]
    },
    {
      "cell_type": "markdown",
      "metadata": {
        "id": "QmGGpNLT2P61"
      },
      "source": [
        "##Fine-Tune Your Model\n",
        "\n",
        "###Grid Search & Randomized Search\n",
        "Try to explain what the Grid Search and Random Search methods do. What are the advantages of each method. For which parameters would this make sense in our example?"
      ]
    },
    {
      "cell_type": "markdown",
      "metadata": {
        "id": "jPdkpYVazu62"
      },
      "source": [
        "###Evaluate Your System on the Test Set\n",
        "\n",
        "Try to evaluate the final model with the test set. Compute the Median and 95% confidence interval of the root mean squared error and the median of the absolute error.\n",
        "\n",
        "Remember to invert your results with the inverse functions you applied to the label variable as a preprocessing step. (The logarithm is the inverse function of the exponential function)."
      ]
    },
    {
      "cell_type": "code",
      "execution_count": null,
      "metadata": {
        "colab": {
          "background_save": true
        },
        "id": "luhX9g4Y0Wja",
        "outputId": "499083bf-b70c-4d0c-ac0e-c607ce04a3f7"
      },
      "outputs": [
        {
          "name": "stderr",
          "output_type": "stream",
          "text": [
            "/usr/local/lib/python3.9/dist-packages/pandas/core/arrays/datetimes.py:2224: FutureWarning: The parsing of 'now' in pd.to_datetime without `utc=True` is deprecated. In a future version, this will match Timestamp('now') and Timestamp.now()\n",
            "  result, tz_parsed = tslib.array_to_datetime(\n"
          ]
        },
        {
          "name": "stdout",
          "output_type": "stream",
          "text": [
            "Median Prediction 451386.8799762005\n"
          ]
        },
        {
          "ename": "ValueError",
          "evalue": "ignored",
          "output_type": "error",
          "traceback": [
            "\u001b[0;31m---------------------------------------------------------------------------\u001b[0m",
            "\u001b[0;31mValueError\u001b[0m                                Traceback (most recent call last)",
            "\u001b[0;32m<ipython-input-26-45ace753d51c>\u001b[0m in \u001b[0;36m<module>\u001b[0;34m\u001b[0m\n\u001b[1;32m      9\u001b[0m \u001b[0;31m#Test\u001b[0m\u001b[0;34m\u001b[0m\u001b[0;34m\u001b[0m\u001b[0m\n\u001b[1;32m     10\u001b[0m \u001b[0mprint\u001b[0m\u001b[0;34m(\u001b[0m\u001b[0;34m\"Median Prediction\"\u001b[0m\u001b[0;34m,\u001b[0m \u001b[0mnp\u001b[0m\u001b[0;34m.\u001b[0m\u001b[0mmedian\u001b[0m\u001b[0;34m(\u001b[0m\u001b[0mnp\u001b[0m\u001b[0;34m.\u001b[0m\u001b[0mexp\u001b[0m\u001b[0;34m(\u001b[0m\u001b[0mRan_Forest_prediction\u001b[0m\u001b[0;34m)\u001b[0m\u001b[0;34m)\u001b[0m\u001b[0;34m)\u001b[0m\u001b[0;34m\u001b[0m\u001b[0;34m\u001b[0m\u001b[0m\n\u001b[0;32m---> 11\u001b[0;31m \u001b[0mprint\u001b[0m\u001b[0;34m(\u001b[0m\u001b[0;34m\"Median Absolute Error\"\u001b[0m \u001b[0;34m,\u001b[0m \u001b[0mmedian_absolute_error\u001b[0m\u001b[0;34m(\u001b[0m\u001b[0mnp\u001b[0m\u001b[0;34m.\u001b[0m\u001b[0mexp\u001b[0m\u001b[0;34m(\u001b[0m\u001b[0mtest_label_transformed\u001b[0m\u001b[0;34m)\u001b[0m\u001b[0;34m,\u001b[0m \u001b[0mnp\u001b[0m\u001b[0;34m.\u001b[0m\u001b[0mexp\u001b[0m\u001b[0;34m(\u001b[0m\u001b[0mRan_Forest_prediction\u001b[0m\u001b[0;34m)\u001b[0m\u001b[0;34m)\u001b[0m\u001b[0;34m)\u001b[0m\u001b[0;34m\u001b[0m\u001b[0;34m\u001b[0m\u001b[0m\n\u001b[0m\u001b[1;32m     12\u001b[0m \u001b[0mprint\u001b[0m\u001b[0;34m(\u001b[0m\u001b[0;34m\"Mean Squared Error\"\u001b[0m\u001b[0;34m,\u001b[0m \u001b[0mmean_squared_error\u001b[0m\u001b[0;34m(\u001b[0m\u001b[0mnp\u001b[0m\u001b[0;34m.\u001b[0m\u001b[0mexp\u001b[0m\u001b[0;34m(\u001b[0m\u001b[0mtest_label_transformed\u001b[0m\u001b[0;34m)\u001b[0m\u001b[0;34m,\u001b[0m \u001b[0mnp\u001b[0m\u001b[0;34m.\u001b[0m\u001b[0mexp\u001b[0m\u001b[0;34m(\u001b[0m\u001b[0mRan_Forest_prediction\u001b[0m\u001b[0;34m)\u001b[0m\u001b[0;34m,\u001b[0m \u001b[0msquared\u001b[0m\u001b[0;34m=\u001b[0m\u001b[0;32mFalse\u001b[0m\u001b[0;34m)\u001b[0m\u001b[0;34m)\u001b[0m\u001b[0;34m\u001b[0m\u001b[0;34m\u001b[0m\u001b[0m\n\u001b[1;32m     13\u001b[0m \u001b[0;34m\u001b[0m\u001b[0m\n",
            "\u001b[0;32m/usr/local/lib/python3.9/dist-packages/sklearn/metrics/_regression.py\u001b[0m in \u001b[0;36mmedian_absolute_error\u001b[0;34m(y_true, y_pred, multioutput, sample_weight)\u001b[0m\n\u001b[1;32m    593\u001b[0m     \u001b[0;36m0.85\u001b[0m\u001b[0;34m\u001b[0m\u001b[0;34m\u001b[0m\u001b[0m\n\u001b[1;32m    594\u001b[0m     \"\"\"\n\u001b[0;32m--> 595\u001b[0;31m     y_type, y_true, y_pred, multioutput = _check_reg_targets(\n\u001b[0m\u001b[1;32m    596\u001b[0m         \u001b[0my_true\u001b[0m\u001b[0;34m,\u001b[0m \u001b[0my_pred\u001b[0m\u001b[0;34m,\u001b[0m \u001b[0mmultioutput\u001b[0m\u001b[0;34m\u001b[0m\u001b[0;34m\u001b[0m\u001b[0m\n\u001b[1;32m    597\u001b[0m     )\n",
            "\u001b[0;32m/usr/local/lib/python3.9/dist-packages/sklearn/metrics/_regression.py\u001b[0m in \u001b[0;36m_check_reg_targets\u001b[0;34m(y_true, y_pred, multioutput, dtype)\u001b[0m\n\u001b[1;32m     98\u001b[0m         \u001b[0mcorrect\u001b[0m \u001b[0mkeyword\u001b[0m\u001b[0;34m.\u001b[0m\u001b[0;34m\u001b[0m\u001b[0;34m\u001b[0m\u001b[0m\n\u001b[1;32m     99\u001b[0m     \"\"\"\n\u001b[0;32m--> 100\u001b[0;31m     \u001b[0mcheck_consistent_length\u001b[0m\u001b[0;34m(\u001b[0m\u001b[0my_true\u001b[0m\u001b[0;34m,\u001b[0m \u001b[0my_pred\u001b[0m\u001b[0;34m)\u001b[0m\u001b[0;34m\u001b[0m\u001b[0;34m\u001b[0m\u001b[0m\n\u001b[0m\u001b[1;32m    101\u001b[0m     \u001b[0my_true\u001b[0m \u001b[0;34m=\u001b[0m \u001b[0mcheck_array\u001b[0m\u001b[0;34m(\u001b[0m\u001b[0my_true\u001b[0m\u001b[0;34m,\u001b[0m \u001b[0mensure_2d\u001b[0m\u001b[0;34m=\u001b[0m\u001b[0;32mFalse\u001b[0m\u001b[0;34m,\u001b[0m \u001b[0mdtype\u001b[0m\u001b[0;34m=\u001b[0m\u001b[0mdtype\u001b[0m\u001b[0;34m)\u001b[0m\u001b[0;34m\u001b[0m\u001b[0;34m\u001b[0m\u001b[0m\n\u001b[1;32m    102\u001b[0m     \u001b[0my_pred\u001b[0m \u001b[0;34m=\u001b[0m \u001b[0mcheck_array\u001b[0m\u001b[0;34m(\u001b[0m\u001b[0my_pred\u001b[0m\u001b[0;34m,\u001b[0m \u001b[0mensure_2d\u001b[0m\u001b[0;34m=\u001b[0m\u001b[0;32mFalse\u001b[0m\u001b[0;34m,\u001b[0m \u001b[0mdtype\u001b[0m\u001b[0;34m=\u001b[0m\u001b[0mdtype\u001b[0m\u001b[0;34m)\u001b[0m\u001b[0;34m\u001b[0m\u001b[0;34m\u001b[0m\u001b[0m\n",
            "\u001b[0;32m/usr/local/lib/python3.9/dist-packages/sklearn/utils/validation.py\u001b[0m in \u001b[0;36mcheck_consistent_length\u001b[0;34m(*arrays)\u001b[0m\n\u001b[1;32m    395\u001b[0m     \u001b[0muniques\u001b[0m \u001b[0;34m=\u001b[0m \u001b[0mnp\u001b[0m\u001b[0;34m.\u001b[0m\u001b[0munique\u001b[0m\u001b[0;34m(\u001b[0m\u001b[0mlengths\u001b[0m\u001b[0;34m)\u001b[0m\u001b[0;34m\u001b[0m\u001b[0;34m\u001b[0m\u001b[0m\n\u001b[1;32m    396\u001b[0m     \u001b[0;32mif\u001b[0m \u001b[0mlen\u001b[0m\u001b[0;34m(\u001b[0m\u001b[0muniques\u001b[0m\u001b[0;34m)\u001b[0m \u001b[0;34m>\u001b[0m \u001b[0;36m1\u001b[0m\u001b[0;34m:\u001b[0m\u001b[0;34m\u001b[0m\u001b[0;34m\u001b[0m\u001b[0m\n\u001b[0;32m--> 397\u001b[0;31m         raise ValueError(\n\u001b[0m\u001b[1;32m    398\u001b[0m             \u001b[0;34m\"Found input variables with inconsistent numbers of samples: %r\"\u001b[0m\u001b[0;34m\u001b[0m\u001b[0;34m\u001b[0m\u001b[0m\n\u001b[1;32m    399\u001b[0m             \u001b[0;34m%\u001b[0m \u001b[0;34m[\u001b[0m\u001b[0mint\u001b[0m\u001b[0;34m(\u001b[0m\u001b[0ml\u001b[0m\u001b[0;34m)\u001b[0m \u001b[0;32mfor\u001b[0m \u001b[0ml\u001b[0m \u001b[0;32min\u001b[0m \u001b[0mlengths\u001b[0m\u001b[0;34m]\u001b[0m\u001b[0;34m\u001b[0m\u001b[0;34m\u001b[0m\u001b[0m\n",
            "\u001b[0;31mValueError\u001b[0m: Found input variables with inconsistent numbers of samples: [17290, 4323]"
          ]
        }
      ],
      "source": [
        "# Your TASK\n",
        "xtest = test_set.drop(\"price\", axis=1)\n",
        "ytest = test_set[\"price\"].copy()\n",
        "\n",
        "test_label_transformed = preprocessing_label.fit_transform(data_label)\n",
        "Ran_Forest_prediction = forest_reg.predict(xtest)\n",
        "Ran_Forest_prediction=Ran_Forest_prediction.reshape((-1,1))\n",
        "\n",
        "#Test\n",
        "print(\"Median Prediction\", np.median(np.exp(Ran_Forest_prediction)))\n",
        "print(\"Median Absolute Error\" , median_absolute_error(np.exp(test_label_transformed), np.exp(Ran_Forest_prediction)))\n",
        "print(\"Mean Squared Error\", mean_squared_error(np.exp(test_label_transformed), np.exp(Ran_Forest_prediction), squared=False))\n",
        "\n",
        "print(\"R Squared\", r2_score(np.exp(test_label_transformed), np.exp(Ran_Forest_prediction)))\n",
        "\n"
      ]
    },
    {
      "cell_type": "markdown",
      "metadata": {
        "id": "5psAeemnj4-7"
      },
      "source": [
        "**Why does this error occur?**"
      ]
    },
    {
      "cell_type": "markdown",
      "metadata": {
        "id": "qt9Soak_tL0G"
      },
      "source": [
        "##Launch, Monitor, and Maintain Your System\n",
        "\n",
        "What package and code can we use to save and reload our model?\n",
        "\n",
        "Why is it possible that we need a monitoring code?\n",
        "\n",
        "Try to save our learned model so that we can reload it at any time."
      ]
    },
    {
      "cell_type": "code",
      "execution_count": null,
      "metadata": {
        "colab": {
          "background_save": true
        },
        "id": "QZZW-z0OMhLH"
      },
      "outputs": [],
      "source": [
        "import joblib\n",
        "\n",
        "joblib.dump(forest_reg, \"RandomForestModel_PricePrediction_on_Houses\")"
      ]
    },
    {
      "cell_type": "markdown",
      "metadata": {
        "id": "MSDETcPogKmO"
      },
      "source": [
        "##Ideas for the Learning Portfolio\n",
        "\n",
        "1) Adding a further model: In a few weeks we will learn neural networks, try to add this model!\n",
        "\n",
        "2) Find a challenge on Kaggle for a regression dataset and use Chapter 2 and this colab to try to solve it. "
      ]
    }
  ],
  "metadata": {
    "colab": {
      "provenance": [],
      "include_colab_link": true
    },
    "kernelspec": {
      "display_name": "Python 3",
      "name": "python3"
    },
    "language_info": {
      "name": "python"
    }
  },
  "nbformat": 4,
  "nbformat_minor": 0
}